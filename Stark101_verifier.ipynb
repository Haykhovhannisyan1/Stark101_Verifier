{
  "nbformat": 4,
  "nbformat_minor": 0,
  "metadata": {
    "colab": {
      "provenance": [],
      "collapsed_sections": [],
      "authorship_tag": "ABX9TyPbNxCtw2sHcKtcuRqfBWdl",
      "include_colab_link": true
    },
    "kernelspec": {
      "name": "python3",
      "display_name": "Python 3"
    },
    "language_info": {
      "name": "python"
    }
  },
  "cells": [
    {
      "cell_type": "markdown",
      "metadata": {
        "id": "view-in-github",
        "colab_type": "text"
      },
      "source": [
        "<a href=\"https://colab.research.google.com/github/Haykhovhannisyan1/Stark101_Verifier/blob/TheVerifier/Stark101_verifier.ipynb\" target=\"_parent\"><img src=\"https://colab.research.google.com/assets/colab-badge.svg\" alt=\"Open In Colab\"/></a>"
      ]
    },
    {
      "cell_type": "code",
      "metadata": {
        "id": "cztdpAIsYj03"
      },
      "source": [
        "import numpy as np\n",
        "import os"
      ],
      "execution_count": 1,
      "outputs": []
    },
    {
      "cell_type": "code",
      "metadata": {
        "id": "Y8U6DOnGYfzF"
      },
      "source": [
        "import time\n",
        "import inspect\n",
        "from hashlib import sha256\n",
        "from math import log2, ceil\n",
        "import operator\n",
        "from functools import reduce\n",
        "from itertools import dropwhile, starmap, zip_longest\n",
        "from random import randint\n"
      ],
      "execution_count": 2,
      "outputs": []
    },
    {
      "cell_type": "code",
      "source": [
        "###Chanel###\n",
        "def serialize(obj):\n",
        "    \"\"\"\n",
        "    Serializes an object into a string.\n",
        "    \"\"\"\n",
        "    if isinstance(obj, (list, tuple)):\n",
        "        return ','.join(map(serialize, obj))\n",
        "    return obj._serialize_()\n",
        "\n",
        "\n",
        "class Channel(object):\n",
        "    \"\"\"\n",
        "    A Channel instance can be used by a prover or a verifier to preserve the semantics of an\n",
        "    interactive proof system, while under the hood it is in fact non-interactive, and uses Sha256\n",
        "    to generate randomness when this is required.\n",
        "    It allows writing string-form data to it, and reading either random integers of random\n",
        "    FieldElements from it.\n",
        "    \"\"\"\n",
        "\n",
        "    def __init__(self):\n",
        "        self.state = '0'\n",
        "        self.proof = []\n",
        "\n",
        "    def send(self, s):\n",
        "        self.state = sha256((self.state + s).encode()).hexdigest()\n",
        "        self.proof.append(f'{inspect.stack()[0][3]}:{s}')\n",
        "\n",
        "    def receive_random_int(self, min, max, show_in_proof=True):\n",
        "        \"\"\"\n",
        "        Emulates a random integer sent by the verifier in the range [min, max] (including min and\n",
        "        max).\n",
        "        \"\"\"\n",
        "\n",
        "        # Note that when the range is close to 2^256 this does not emit a uniform distribution,\n",
        "        # even if sha256 is uniformly distributed.\n",
        "        # It is, however, close enough for this tutorial's purposes.\n",
        "        num = min + (int(self.state, 16) % (max - min + 1))\n",
        "        self.state = sha256((self.state).encode()).hexdigest()\n",
        "        if show_in_proof:\n",
        "            self.proof.append(f'{inspect.stack()[0][3]}:{num}')\n",
        "        return num\n",
        "\n",
        "    def receive_random_field_element(self):\n",
        "        \"\"\"\n",
        "        Emulates a random field element sent by the verifier.\n",
        "        \"\"\"\n",
        "        num = self.receive_random_int(0, FieldElement.k_modulus - 1, show_in_proof=False)\n",
        "        self.proof.append(f'{inspect.stack()[0][3]}:{num}')\n",
        "        return FieldElement(num)"
      ],
      "metadata": {
        "id": "sxD4KXQxgczr"
      },
      "execution_count": 3,
      "outputs": []
    },
    {
      "cell_type": "code",
      "source": [
        "###MerkleTree\n",
        "class MerkleTree(object):\n",
        "    \"\"\"\n",
        "    A simple and naive implementation of an immutable Merkle tree.\n",
        "    \"\"\"\n",
        "\n",
        "    def __init__(self, data):\n",
        "        assert isinstance(data, list)\n",
        "        assert len(data) > 0, 'Cannot construct an empty Merkle Tree.'\n",
        "        num_leaves = 2 ** ceil(log2(len(data)))\n",
        "        self.data = data + [FieldElement(0)] * (num_leaves - len(data))\n",
        "        self.height = int(log2(num_leaves))\n",
        "        self.facts = {}\n",
        "        self.root = self.build_tree()\n",
        "\n",
        "    def get_authentication_path(self, leaf_id):\n",
        "        assert 0 <= leaf_id < len(self.data)\n",
        "        node_id = leaf_id + len(self.data)\n",
        "        cur = self.root\n",
        "        decommitment = []\n",
        "        # In a Merkle Tree, the path from the root to a leaf, corresponds to the the leaf id's\n",
        "        # binary representation, starting from the second-MSB, where '0' means 'left', and '1' means\n",
        "        # 'right'.\n",
        "        # We therefore iterate over the bits of the binary representation - skipping the '0b'\n",
        "        # prefix, as well as the MSB.\n",
        "        for bit in bin(node_id)[3:]:\n",
        "            cur, auth = self.facts[cur]\n",
        "            if bit == '1':\n",
        "                auth, cur = cur, auth\n",
        "            decommitment.append(auth)\n",
        "        return decommitment\n",
        "\n",
        "    def build_tree(self):\n",
        "        return self.recursive_build_tree(1)\n",
        "\n",
        "    def recursive_build_tree(self, node_id):\n",
        "        if node_id >= len(self.data):\n",
        "            # A leaf.\n",
        "            id_in_data = node_id - len(self.data)\n",
        "            leaf_data = str(self.data[id_in_data])\n",
        "            h = sha256(leaf_data.encode()).hexdigest()\n",
        "            self.facts[h] = leaf_data\n",
        "            return h\n",
        "        else:\n",
        "            # An internal node.\n",
        "            left = self.recursive_build_tree(node_id * 2)\n",
        "            right = self.recursive_build_tree(node_id * 2 + 1)\n",
        "            h = sha256((left + right).encode()).hexdigest()\n",
        "            self.facts[h] = (left, right)\n",
        "            return h\n",
        "\n",
        "\n",
        "def verify_decommitment(leaf_id, leaf_data, decommitment, root):\n",
        "    leaf_num = 2 ** len(decommitment)\n",
        "    node_id = leaf_id + leaf_num\n",
        "    cur = sha256(str(leaf_data).encode()).hexdigest()\n",
        "    #print(cur)\n",
        "    #print(decommitment)\n",
        "    for bit, auth in zip(bin(node_id)[3:][::-1], decommitment[::-1]):\n",
        "        if bit == '0':\n",
        "            h = cur + auth\n",
        "        else:\n",
        "            h = auth + cur\n",
        "        cur = sha256(h.encode()).hexdigest()\n",
        "        #print(cur) \n",
        "    return cur == root"
      ],
      "metadata": {
        "id": "t3WcjGUngdPY"
      },
      "execution_count": 4,
      "outputs": []
    },
    {
      "cell_type": "code",
      "source": [
        "def remove_trailing_elements(list_of_elements, element_to_remove):\n",
        "    return list(dropwhile(lambda x: x == element_to_remove, list_of_elements[::-1]))[::-1]\n",
        "\n",
        "\n",
        "def two_lists_tuple_operation(f, g, operation, fill_value):\n",
        "    return list(starmap(operation, zip_longest(f, g, fillvalue=fill_value)))\n",
        "\n",
        "\n",
        "def scalar_operation(list_of_elements, operation, scalar):\n",
        "    return [operation(c, scalar) for c in list_of_elements]"
      ],
      "metadata": {
        "id": "wgDwhVWcgdRN"
      },
      "execution_count": 5,
      "outputs": []
    },
    {
      "cell_type": "code",
      "source": [
        "###FieldElement\n",
        "class FieldElement:\n",
        "    \"\"\"\n",
        "    Represents an element of F_(3 * 2**30 + 1).\n",
        "    \"\"\"\n",
        "    k_modulus = 3 * 2**30 + 1\n",
        "    generator_val = 5\n",
        "\n",
        "    def __init__(self, val):\n",
        "        self.val = val % FieldElement.k_modulus\n",
        "\n",
        "    @staticmethod\n",
        "    def zero():\n",
        "        \"\"\"\n",
        "        Obtains the zero element of the field.\n",
        "        \"\"\"\n",
        "        return FieldElement(0)\n",
        "\n",
        "    @staticmethod\n",
        "    def one():\n",
        "        \"\"\"\n",
        "        Obtains the unit element of the field.\n",
        "        \"\"\"\n",
        "        return FieldElement(1)\n",
        "\n",
        "    def __repr__(self):\n",
        "        # Choose the shorter representation between the positive and negative values of the element.\n",
        "        return repr((self.val + self.k_modulus//2) % self.k_modulus - self.k_modulus//2)\n",
        "\n",
        "    def __eq__(self, other):\n",
        "        if isinstance(other, int):\n",
        "            other = FieldElement(other)\n",
        "        return isinstance(other, FieldElement) and self.val == other.val\n",
        "\n",
        "    def __hash__(self):\n",
        "        return hash(self.val)\n",
        "\n",
        "    @staticmethod\n",
        "    def generator():\n",
        "        return FieldElement(FieldElement.generator_val)\n",
        "\n",
        "    @staticmethod\n",
        "    def typecast(other):\n",
        "        if isinstance(other, int):\n",
        "            return FieldElement(other)\n",
        "        assert isinstance(other, FieldElement), f'Type mismatch: FieldElement and {type(other)}.'\n",
        "        return other\n",
        "\n",
        "    def __neg__(self):\n",
        "        return self.zero() - self\n",
        "\n",
        "    def __add__(self, other):\n",
        "        try:\n",
        "            other = FieldElement.typecast(other)\n",
        "        except AssertionError:\n",
        "            return NotImplemented\n",
        "        return FieldElement((self.val + other.val) % FieldElement.k_modulus)\n",
        "\n",
        "    __radd__ = __add__\n",
        "\n",
        "    def __sub__(self, other):\n",
        "        try:\n",
        "            other = FieldElement.typecast(other)\n",
        "        except AssertionError:\n",
        "            return NotImplemented\n",
        "        return FieldElement((self.val - other.val) % FieldElement.k_modulus)\n",
        "\n",
        "    def __rsub__(self, other):\n",
        "        return -(self - other)\n",
        "\n",
        "    def __mul__(self, other):\n",
        "        try:\n",
        "            other = FieldElement.typecast(other)\n",
        "        except AssertionError:\n",
        "            return NotImplemented\n",
        "        return FieldElement((self.val * other.val) % FieldElement.k_modulus)\n",
        "\n",
        "    __rmul__ = __mul__\n",
        "\n",
        "    def __truediv__(self, other):\n",
        "        other = FieldElement.typecast(other)\n",
        "        return self * other.inverse()\n",
        "\n",
        "    def __pow__(self, n):\n",
        "        assert n >= 0\n",
        "        cur_pow = self\n",
        "        res = FieldElement(1)\n",
        "        while n > 0:\n",
        "            if n % 2 != 0:\n",
        "                res *= cur_pow\n",
        "            n = n // 2\n",
        "            cur_pow *= cur_pow\n",
        "        return res\n",
        "\n",
        "    def inverse(self):\n",
        "        t, new_t = 0, 1\n",
        "        r, new_r = FieldElement.k_modulus, self.val\n",
        "        while new_r != 0:\n",
        "            quotient = r // new_r\n",
        "            t, new_t = new_t, (t - (quotient * new_t))\n",
        "            r, new_r = new_r, r - quotient * new_r\n",
        "        assert r == 1\n",
        "        return FieldElement(t)\n",
        "\n",
        "    def is_order(self, n):\n",
        "        \"\"\"\n",
        "        Naively checks that the element is of order n by raising it to all powers up to n, checking\n",
        "        that the element to the n-th power is the unit, but not so for any k<n.\n",
        "        \"\"\"\n",
        "        assert n >= 1\n",
        "        h = FieldElement(1)\n",
        "        for _ in range(1, n):\n",
        "            h *= self\n",
        "            if h == FieldElement(1):\n",
        "                return False\n",
        "        return h * self == FieldElement(1)\n",
        "\n",
        "    def _serialize_(self):\n",
        "        return repr(self.val)\n",
        "\n",
        "    @staticmethod\n",
        "    def random_element(exclude_elements=[]):\n",
        "        fe = FieldElement(randint(0, FieldElement.k_modulus - 1))\n",
        "        while fe in exclude_elements:\n",
        "            fe = FieldElement(randint(0, FieldElement.k_modulus - 1))\n",
        "        return fe"
      ],
      "metadata": {
        "id": "9CBe9zTYgdTa"
      },
      "execution_count": 6,
      "outputs": []
    },
    {
      "cell_type": "code",
      "source": [
        "g = FieldElement.generator() ** (3 * 2 ** 20)\n",
        "points = [g ** i for i in range(1024)]\n",
        "h_gen = FieldElement.generator() ** ((2 ** 30 * 3) // 8192)\n",
        "h = [h_gen ** i for i in range(8192)]\n",
        "domain = [FieldElement.generator() * x for x in h]"
      ],
      "metadata": {
        "id": "PrXK6-WU11ev"
      },
      "execution_count": 7,
      "outputs": []
    },
    {
      "cell_type": "code",
      "source": [
        "# Auth_path is given as 1 big str, we need to make it an array of strings \n",
        "def get_path(path):\n",
        "  non_string_path = []\n",
        "  i = 5 # as path starts with \"send:\"\n",
        "  while i < len(path):\n",
        "    if path[i] == \"'\": #start of the i_th part\n",
        "      i += 1\n",
        "      j = i\n",
        "      while path[i] != \"'\": # end of i_th part\n",
        "        i += 1\n",
        "      non_string_path.append(path[j:i])\n",
        "      i += 1 #Now we are at the semicolon or reached the end \n",
        "\n",
        "    if path[i] == ']':\n",
        "      assert i + 1 == len(path),f'smth wrong' #There should not be any other ']'. \n",
        "   \n",
        "    i += 1\n",
        "\n",
        "  return non_string_path"
      ],
      "metadata": {
        "id": "AZuTLHbPnlOE"
      },
      "execution_count": 8,
      "outputs": []
    },
    {
      "cell_type": "code",
      "source": [
        "roots = []\n",
        "evals = []\n",
        "auth_paths = []\n",
        "idx = []\n",
        "beta = []"
      ],
      "metadata": {
        "id": "bzt-hQyGgdWA"
      },
      "execution_count": 9,
      "outputs": []
    },
    {
      "cell_type": "code",
      "source": [
        "proof = np.load(\"/content/The proof.npy\")"
      ],
      "metadata": {
        "id": "KZCRjucQgdYc"
      },
      "execution_count": 10,
      "outputs": []
    },
    {
      "cell_type": "code",
      "source": [
        "proof"
      ],
      "metadata": {
        "id": "Fmgr2XcNgdhT"
      },
      "execution_count": null,
      "outputs": []
    },
    {
      "cell_type": "code",
      "source": [
        "roots.append(proof[0][5:])#The root of Trace polynomial"
      ],
      "metadata": {
        "id": "44QBR_3ogdax"
      },
      "execution_count": 12,
      "outputs": []
    },
    {
      "cell_type": "code",
      "source": [
        "for i in range(4, 25, 2):\n",
        "  roots.append(proof[i][5:])#The roots of CP0,CP1,...,CP10"
      ],
      "metadata": {
        "id": "WfcFtUmjgddh"
      },
      "execution_count": 13,
      "outputs": []
    },
    {
      "cell_type": "code",
      "source": [
        "for i in range(5, 25, 2):\n",
        "  beta.append(int(proof[i][29:]))# The betas send by the verifier"
      ],
      "metadata": {
        "id": "HbNIaTGjYetR"
      },
      "execution_count": 14,
      "outputs": []
    },
    {
      "cell_type": "code",
      "source": [
        "last_value = proof[25][5:]#The value of the last layer"
      ],
      "metadata": {
        "id": "7diysHYagdpg"
      },
      "execution_count": 15,
      "outputs": []
    },
    {
      "cell_type": "code",
      "source": [
        "idx.append(int(proof[26][19:]))#The first query's index"
      ],
      "metadata": {
        "id": "2hQwelr6LVvA"
      },
      "execution_count": 16,
      "outputs": []
    },
    {
      "cell_type": "code",
      "source": [
        "evals.append(int(proof[27][5:]))#f_eval(x)\n",
        "evals.append(int(proof[29][5:]))#f_eval(gx)\n",
        "evals.append(int(proof[31][5:]))#f_eval(g^2x)\n"
      ],
      "metadata": {
        "id": "5ZbINluVgdv6"
      },
      "execution_count": 17,
      "outputs": []
    },
    {
      "cell_type": "code",
      "source": [
        "auth_paths.append(get_path(proof[28]))#auth path for f_eval(x)\n",
        "auth_paths.append(get_path(proof[30]))#auth path for f_eval(gx)\n",
        "auth_paths.append(get_path(proof[32]))#auth path for f_eval(g^2x)"
      ],
      "metadata": {
        "id": "jhVy9_p3nlUz"
      },
      "execution_count": 18,
      "outputs": []
    },
    {
      "cell_type": "code",
      "source": [
        "for i in range(33, 74, 2):\n",
        "  evals.append(int(proof[i][5:]))#The CP_i(x) and CP_i(-x)\n",
        "  #The proof[73] is the last value"
      ],
      "metadata": {
        "id": "kqaqHPVknlLs"
      },
      "execution_count": 19,
      "outputs": []
    },
    {
      "cell_type": "code",
      "source": [
        "for i in range(34, 74, 2):\n",
        "  auth_paths.append(get_path(proof[i]))#auth paths for  CP_i(x) and CP_i(-x)"
      ],
      "metadata": {
        "id": "jCL1D--5nlZx"
      },
      "execution_count": 20,
      "outputs": []
    },
    {
      "cell_type": "code",
      "source": [
        "def verify_paths(idx, evals, auth_paths, roots, length):\n",
        "    assert verify_decommitment(idx, evals[0], auth_paths[0], roots[0]), f'f(x) is not from the data'\n",
        "    assert verify_decommitment(idx + 8, evals[1], auth_paths[1], roots[0]), f'f(gx) is not from the data'\n",
        "    assert verify_decommitment(idx + 16, evals[2], auth_paths[2], roots[0]), f'f(g^2x) is not from the data'\n",
        "    j = 3\n",
        "    for i in range(1, len(roots), 1):\n",
        "        sib_idx = (idx + length // 2) % length\n",
        "        if j != len(evals) -1:\n",
        "            assert verify_decommitment(idx, evals[j], auth_paths[j], roots[i]), f'CP[{i-1}](x) is not from the data'\n",
        "            assert verify_decommitment(sib_idx, evals[j + 1], auth_paths[j + 1], roots[i]), f'CP[{i-1}](-x) is not from the data'\n",
        "        length = length//2\n",
        "        j += 2\n",
        "    #print(evals[j - 2])        "
      ],
      "metadata": {
        "id": "ildXuaLOl0-P"
      },
      "execution_count": 21,
      "outputs": []
    },
    {
      "cell_type": "code",
      "source": [
        "verify_paths(idx[0], evals, auth_paths, roots, len(domain))"
      ],
      "metadata": {
        "id": "OqkKVEEb2RqX"
      },
      "execution_count": 22,
      "outputs": []
    },
    {
      "cell_type": "code",
      "source": [
        "cp01 = FieldElement(evals[0] - 1)/(domain[idx[0]] - points[0])\n",
        "cp01 *= FieldElement(int(proof[1][29:]))"
      ],
      "metadata": {
        "id": "y5j33IdXzMZx"
      },
      "execution_count": 23,
      "outputs": []
    },
    {
      "cell_type": "code",
      "source": [
        "cp02 = (FieldElement(evals[0]) - FieldElement(2338775057))/(domain[idx[0]] - points[1022])\n",
        "cp02 *= FieldElement(int(proof[2][29:]))"
      ],
      "metadata": {
        "id": "xhCAvEYSzMXM"
      },
      "execution_count": 24,
      "outputs": []
    },
    {
      "cell_type": "code",
      "source": [
        "denom = ((domain[idx[0]]**1024 - 1)/((domain[idx[0]] - points[1021])*(domain[idx[0]] - points[1022])*(domain[idx[0]] - points[1023])))"
      ],
      "metadata": {
        "id": "thVbnOPQ0_L6"
      },
      "execution_count": 25,
      "outputs": []
    },
    {
      "cell_type": "code",
      "source": [
        "cp03 = (FieldElement(evals[2]) - FieldElement(evals[1])*FieldElement(evals[1]) - FieldElement(evals[0])*FieldElement(evals[0]))/denom\n",
        "cp03 *= FieldElement(int(proof[3][29:]))"
      ],
      "metadata": {
        "id": "x5YRGW4czMjV"
      },
      "execution_count": 26,
      "outputs": []
    },
    {
      "cell_type": "code",
      "source": [
        "cp = cp01 + cp02 + cp03"
      ],
      "metadata": {
        "id": "raCyHUi80_XM"
      },
      "execution_count": 27,
      "outputs": []
    },
    {
      "cell_type": "code",
      "source": [
        "assert cp == FieldElement(evals[3])"
      ],
      "metadata": {
        "id": "7n7Pmjos0_ax"
      },
      "execution_count": null,
      "outputs": []
    },
    {
      "cell_type": "code",
      "source": [
        "def next_fri_domain(domain):\n",
        "    return [x ** 2 for x in domain[:len(domain) // 2]]\n"
      ],
      "metadata": {
        "id": "eGbYp4L69ZOO"
      },
      "execution_count": 29,
      "outputs": []
    },
    {
      "cell_type": "code",
      "source": [
        "def verify_fri(query_idx,evals,beta, dom = domain):\n",
        "    j = 3 \n",
        "    i = 0\n",
        "    while j + 2 < len(evals):\n",
        "        dom_len = len(dom) \n",
        "        query_idx = query_idx % dom_len\n",
        "        cp_x = FieldElement(evals[j])# CP(x)\n",
        "        cp_neg_x = FieldElement(evals[j + 1])#CP(-x)\n",
        "        even = (cp_x + cp_neg_x)/2\n",
        "        odd = (cp_x - cp_neg_x)/(2* dom[query_idx])\n",
        "        b_i = FieldElement(beta[i])\n",
        "        next_pol = even + b_i * odd# The next layer's CP(x^2) can be computed by Even(x) + beta * Odd(x)\n",
        "        assert FieldElement(evals[j + 2]) == next_pol,f'CP[{i + 1}] is not the next layer '\n",
        "        i += 1\n",
        "        j += 2\n",
        "        dom = next_fri_domain(dom)"
      ],
      "metadata": {
        "id": "XOc4P5_kQesj"
      },
      "execution_count": 30,
      "outputs": []
    },
    {
      "cell_type": "code",
      "source": [
        "verify_fri(idx[0], evals, beta, domain)"
      ],
      "metadata": {
        "id": "ePDhaXOTNZsO"
      },
      "execution_count": null,
      "outputs": []
    },
    {
      "cell_type": "code",
      "source": [],
      "metadata": {
        "id": "KN-cJprJAF2H"
      },
      "execution_count": 31,
      "outputs": []
    }
  ]
}