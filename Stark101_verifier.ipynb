{
  "nbformat": 4,
  "nbformat_minor": 0,
  "metadata": {
    "colab": {
      "provenance": [],
      "collapsed_sections": [],
      "authorship_tag": "ABX9TyMM9f8V4mr6dgIAK0DZJf/h",
      "include_colab_link": true
    },
    "kernelspec": {
      "name": "python3",
      "display_name": "Python 3"
    },
    "language_info": {
      "name": "python"
    }
  },
  "cells": [
    {
      "cell_type": "markdown",
      "metadata": {
        "id": "view-in-github",
        "colab_type": "text"
      },
      "source": [
        "<a href=\"https://colab.research.google.com/github/Haykhovhannisyan1/Stark101_Verifier/blob/TheVerifier/Stark101_verifier.ipynb\" target=\"_parent\"><img src=\"https://colab.research.google.com/assets/colab-badge.svg\" alt=\"Open In Colab\"/></a>"
      ]
    },
    {
      "cell_type": "code",
      "metadata": {
        "id": "cztdpAIsYj03"
      },
      "source": [
        "import numpy as np\n",
        "import os"
      ],
      "execution_count": 1,
      "outputs": []
    },
    {
      "cell_type": "code",
      "metadata": {
        "id": "Y8U6DOnGYfzF"
      },
      "source": [
        "import time\n",
        "import inspect\n",
        "from hashlib import sha256\n",
        "from math import log2, ceil\n",
        "import operator\n",
        "from functools import reduce\n",
        "from itertools import dropwhile, starmap, zip_longest\n",
        "from random import randint\n"
      ],
      "execution_count": 2,
      "outputs": []
    },
    {
      "cell_type": "code",
      "source": [
        "###Chanel###\n",
        "def serialize(obj):\n",
        "    \"\"\"\n",
        "    Serializes an object into a string.\n",
        "    \"\"\"\n",
        "    if isinstance(obj, (list, tuple)):\n",
        "        return ','.join(map(serialize, obj))\n",
        "    return obj._serialize_()\n",
        "\n",
        "\n",
        "class Channel(object):\n",
        "    \"\"\"\n",
        "    A Channel instance can be used by a prover or a verifier to preserve the semantics of an\n",
        "    interactive proof system, while under the hood it is in fact non-interactive, and uses Sha256\n",
        "    to generate randomness when this is required.\n",
        "    It allows writing string-form data to it, and reading either random integers of random\n",
        "    FieldElements from it.\n",
        "    \"\"\"\n",
        "\n",
        "    def __init__(self):\n",
        "        self.state = '0'\n",
        "        self.proof = []\n",
        "\n",
        "    def send(self, s):\n",
        "        self.state = sha256((self.state + s).encode()).hexdigest()\n",
        "        self.proof.append(f'{inspect.stack()[0][3]}:{s}')\n",
        "\n",
        "    def receive_random_int(self, min, max, show_in_proof=True):\n",
        "        \"\"\"\n",
        "        Emulates a random integer sent by the verifier in the range [min, max] (including min and\n",
        "        max).\n",
        "        \"\"\"\n",
        "\n",
        "        # Note that when the range is close to 2^256 this does not emit a uniform distribution,\n",
        "        # even if sha256 is uniformly distributed.\n",
        "        # It is, however, close enough for this tutorial's purposes.\n",
        "        num = min + (int(self.state, 16) % (max - min + 1))\n",
        "        self.state = sha256((self.state).encode()).hexdigest()\n",
        "        if show_in_proof:\n",
        "            self.proof.append(f'{inspect.stack()[0][3]}:{num}')\n",
        "        return num\n",
        "\n",
        "    def receive_random_field_element(self):\n",
        "        \"\"\"\n",
        "        Emulates a random field element sent by the verifier.\n",
        "        \"\"\"\n",
        "        num = self.receive_random_int(0, FieldElement.k_modulus - 1, show_in_proof=False)\n",
        "        self.proof.append(f'{inspect.stack()[0][3]}:{num}')\n",
        "        return FieldElement(num)"
      ],
      "metadata": {
        "id": "sxD4KXQxgczr"
      },
      "execution_count": 3,
      "outputs": []
    },
    {
      "cell_type": "code",
      "source": [
        "###MerkleTree\n",
        "class MerkleTree(object):\n",
        "    \"\"\"\n",
        "    A simple and naive implementation of an immutable Merkle tree.\n",
        "    \"\"\"\n",
        "\n",
        "    def __init__(self, data):\n",
        "        assert isinstance(data, list)\n",
        "        assert len(data) > 0, 'Cannot construct an empty Merkle Tree.'\n",
        "        num_leaves = 2 ** ceil(log2(len(data)))\n",
        "        self.data = data + [FieldElement(0)] * (num_leaves - len(data))\n",
        "        self.height = int(log2(num_leaves))\n",
        "        self.facts = {}\n",
        "        self.root = self.build_tree()\n",
        "\n",
        "    def get_authentication_path(self, leaf_id):\n",
        "        assert 0 <= leaf_id < len(self.data)\n",
        "        node_id = leaf_id + len(self.data)\n",
        "        cur = self.root\n",
        "        decommitment = []\n",
        "        # In a Merkle Tree, the path from the root to a leaf, corresponds to the the leaf id's\n",
        "        # binary representation, starting from the second-MSB, where '0' means 'left', and '1' means\n",
        "        # 'right'.\n",
        "        # We therefore iterate over the bits of the binary representation - skipping the '0b'\n",
        "        # prefix, as well as the MSB.\n",
        "        for bit in bin(node_id)[3:]:\n",
        "            cur, auth = self.facts[cur]\n",
        "            if bit == '1':\n",
        "                auth, cur = cur, auth\n",
        "            decommitment.append(auth)\n",
        "        return decommitment\n",
        "\n",
        "    def build_tree(self):\n",
        "        return self.recursive_build_tree(1)\n",
        "\n",
        "    def recursive_build_tree(self, node_id):\n",
        "        if node_id >= len(self.data):\n",
        "            # A leaf.\n",
        "            id_in_data = node_id - len(self.data)\n",
        "            leaf_data = str(self.data[id_in_data])\n",
        "            h = sha256(leaf_data.encode()).hexdigest()\n",
        "            self.facts[h] = leaf_data\n",
        "            return h\n",
        "        else:\n",
        "            # An internal node.\n",
        "            left = self.recursive_build_tree(node_id * 2)\n",
        "            right = self.recursive_build_tree(node_id * 2 + 1)\n",
        "            h = sha256((left + right).encode()).hexdigest()\n",
        "            self.facts[h] = (left, right)\n",
        "            return h\n",
        "\n",
        "\n",
        "def verify_decommitment(leaf_id, leaf_data, decommitment, root):\n",
        "    leaf_num = 2 ** len(decommitment)\n",
        "    node_id = leaf_id + leaf_num\n",
        "    cur = sha256(str(leaf_data).encode()).hexdigest()\n",
        "    #print(cur)\n",
        "    #print(decommitment)\n",
        "    for bit, auth in zip(bin(node_id)[3:][::-1], decommitment[::-1]):\n",
        "        if bit == '0':\n",
        "            h = cur + auth\n",
        "        else:\n",
        "            h = auth + cur\n",
        "        cur = sha256(h.encode()).hexdigest()\n",
        "        #print(cur) \n",
        "    return cur == root"
      ],
      "metadata": {
        "id": "t3WcjGUngdPY"
      },
      "execution_count": 4,
      "outputs": []
    },
    {
      "cell_type": "code",
      "source": [
        "def remove_trailing_elements(list_of_elements, element_to_remove):\n",
        "    return list(dropwhile(lambda x: x == element_to_remove, list_of_elements[::-1]))[::-1]\n",
        "\n",
        "\n",
        "def two_lists_tuple_operation(f, g, operation, fill_value):\n",
        "    return list(starmap(operation, zip_longest(f, g, fillvalue=fill_value)))\n",
        "\n",
        "\n",
        "def scalar_operation(list_of_elements, operation, scalar):\n",
        "    return [operation(c, scalar) for c in list_of_elements]"
      ],
      "metadata": {
        "id": "wgDwhVWcgdRN"
      },
      "execution_count": 5,
      "outputs": []
    },
    {
      "cell_type": "code",
      "source": [
        "###FieldElement\n",
        "class FieldElement:\n",
        "    \"\"\"\n",
        "    Represents an element of F_(3 * 2**30 + 1).\n",
        "    \"\"\"\n",
        "    k_modulus = 3 * 2**30 + 1\n",
        "    generator_val = 5\n",
        "\n",
        "    def __init__(self, val):\n",
        "        self.val = val % FieldElement.k_modulus\n",
        "\n",
        "    @staticmethod\n",
        "    def zero():\n",
        "        \"\"\"\n",
        "        Obtains the zero element of the field.\n",
        "        \"\"\"\n",
        "        return FieldElement(0)\n",
        "\n",
        "    @staticmethod\n",
        "    def one():\n",
        "        \"\"\"\n",
        "        Obtains the unit element of the field.\n",
        "        \"\"\"\n",
        "        return FieldElement(1)\n",
        "\n",
        "    def __repr__(self):\n",
        "        # Choose the shorter representation between the positive and negative values of the element.\n",
        "        return repr((self.val + self.k_modulus//2) % self.k_modulus - self.k_modulus//2)\n",
        "\n",
        "    def __eq__(self, other):\n",
        "        if isinstance(other, int):\n",
        "            other = FieldElement(other)\n",
        "        return isinstance(other, FieldElement) and self.val == other.val\n",
        "\n",
        "    def __hash__(self):\n",
        "        return hash(self.val)\n",
        "\n",
        "    @staticmethod\n",
        "    def generator():\n",
        "        return FieldElement(FieldElement.generator_val)\n",
        "\n",
        "    @staticmethod\n",
        "    def typecast(other):\n",
        "        if isinstance(other, int):\n",
        "            return FieldElement(other)\n",
        "        assert isinstance(other, FieldElement), f'Type mismatch: FieldElement and {type(other)}.'\n",
        "        return other\n",
        "\n",
        "    def __neg__(self):\n",
        "        return self.zero() - self\n",
        "\n",
        "    def __add__(self, other):\n",
        "        try:\n",
        "            other = FieldElement.typecast(other)\n",
        "        except AssertionError:\n",
        "            return NotImplemented\n",
        "        return FieldElement((self.val + other.val) % FieldElement.k_modulus)\n",
        "\n",
        "    __radd__ = __add__\n",
        "\n",
        "    def __sub__(self, other):\n",
        "        try:\n",
        "            other = FieldElement.typecast(other)\n",
        "        except AssertionError:\n",
        "            return NotImplemented\n",
        "        return FieldElement((self.val - other.val) % FieldElement.k_modulus)\n",
        "\n",
        "    def __rsub__(self, other):\n",
        "        return -(self - other)\n",
        "\n",
        "    def __mul__(self, other):\n",
        "        try:\n",
        "            other = FieldElement.typecast(other)\n",
        "        except AssertionError:\n",
        "            return NotImplemented\n",
        "        return FieldElement((self.val * other.val) % FieldElement.k_modulus)\n",
        "\n",
        "    __rmul__ = __mul__\n",
        "\n",
        "    def __truediv__(self, other):\n",
        "        other = FieldElement.typecast(other)\n",
        "        return self * other.inverse()\n",
        "\n",
        "    def __pow__(self, n):\n",
        "        assert n >= 0\n",
        "        cur_pow = self\n",
        "        res = FieldElement(1)\n",
        "        while n > 0:\n",
        "            if n % 2 != 0:\n",
        "                res *= cur_pow\n",
        "            n = n // 2\n",
        "            cur_pow *= cur_pow\n",
        "        return res\n",
        "\n",
        "    def inverse(self):\n",
        "        t, new_t = 0, 1\n",
        "        r, new_r = FieldElement.k_modulus, self.val\n",
        "        while new_r != 0:\n",
        "            quotient = r // new_r\n",
        "            t, new_t = new_t, (t - (quotient * new_t))\n",
        "            r, new_r = new_r, r - quotient * new_r\n",
        "        assert r == 1\n",
        "        return FieldElement(t)\n",
        "\n",
        "    def is_order(self, n):\n",
        "        \"\"\"\n",
        "        Naively checks that the element is of order n by raising it to all powers up to n, checking\n",
        "        that the element to the n-th power is the unit, but not so for any k<n.\n",
        "        \"\"\"\n",
        "        assert n >= 1\n",
        "        h = FieldElement(1)\n",
        "        for _ in range(1, n):\n",
        "            h *= self\n",
        "            if h == FieldElement(1):\n",
        "                return False\n",
        "        return h * self == FieldElement(1)\n",
        "\n",
        "    def _serialize_(self):\n",
        "        return repr(self.val)\n",
        "\n",
        "    @staticmethod\n",
        "    def random_element(exclude_elements=[]):\n",
        "        fe = FieldElement(randint(0, FieldElement.k_modulus - 1))\n",
        "        while fe in exclude_elements:\n",
        "            fe = FieldElement(randint(0, FieldElement.k_modulus - 1))\n",
        "        return fe"
      ],
      "metadata": {
        "id": "9CBe9zTYgdTa"
      },
      "execution_count": 5,
      "outputs": []
    },
    {
      "cell_type": "code",
      "source": [
        "g = FieldElement.generator() ** (3 * 2 ** 20)\n",
        "points = [g ** i for i in range(1024)]\n",
        "h_gen = FieldElement.generator() ** ((2 ** 30 * 3) // 8192)\n",
        "h = [h_gen ** i for i in range(8192)]\n",
        "domain = [FieldElement.generator() * x for x in h]"
      ],
      "metadata": {
        "id": "PrXK6-WU11ev"
      },
      "execution_count": 6,
      "outputs": []
    },
    {
      "cell_type": "code",
      "source": [
        "def next_fri_domain(domain):\n",
        "    return [x ** 2 for x in domain[:len(domain) // 2]]\n"
      ],
      "metadata": {
        "id": "eGbYp4L69ZOO"
      },
      "execution_count": 7,
      "outputs": []
    },
    {
      "cell_type": "code",
      "source": [
        "# Auth_path is given as 1 long string, we need to make it an array of strings \n",
        "def get_path(path):\n",
        "  non_string_path = []\n",
        "  i = 5 # as path starts with \"send:\"\n",
        "  while i < len(path):\n",
        "    if path[i] == \"'\": #start of the i_th part\n",
        "      i += 1\n",
        "      j = i\n",
        "      while path[i] != \"'\": # end of i_th part\n",
        "        i += 1\n",
        "      non_string_path.append(path[j:i])\n",
        "      i += 1 #Now we are at the semicolon or reached the end \n",
        "\n",
        "    if path[i] == ']':\n",
        "      assert i + 1 == len(path),f'smth wrong' #There should not be any other ']'. \n",
        "   \n",
        "    i += 1# this is the comma\n",
        "\n",
        "  return non_string_path"
      ],
      "metadata": {
        "id": "AZuTLHbPnlOE"
      },
      "execution_count": 8,
      "outputs": []
    },
    {
      "cell_type": "code",
      "source": [
        "def empty_paramether_sets(number_of_queries = 3):\n",
        "  roots = []\n",
        "  evals = []\n",
        "  auth_paths = []\n",
        "  alphas = []\n",
        "  betas = []\n",
        "  for i in range(number_of_queries):\n",
        "    evals.append([])\n",
        "    auth_paths.append([])\n",
        "\n",
        "  return roots, evals, auth_paths, alphas, betas"
      ],
      "metadata": {
        "id": "eosDfOEFCg30"
      },
      "execution_count": 9,
      "outputs": []
    },
    {
      "cell_type": "code",
      "source": [
        "number_of_queries = 3"
      ],
      "metadata": {
        "id": "OMp3Vxrf2DzI"
      },
      "execution_count": 10,
      "outputs": []
    },
    {
      "cell_type": "code",
      "source": [
        "idx = []#query indexes"
      ],
      "metadata": {
        "id": "esvoh-0swZo0"
      },
      "execution_count": 11,
      "outputs": []
    },
    {
      "cell_type": "code",
      "source": [
        "channel = Channel()#We will emulate the prover by sending all values that prover send to the channel\n",
        "# to verifie that all challenges were recieved after sending the cooresponding evaluations."
      ],
      "metadata": {
        "id": "KN-cJprJAF2H"
      },
      "execution_count": 12,
      "outputs": []
    },
    {
      "cell_type": "code",
      "source": [
        "proof = np.load(\"/content/The proof.npy\")"
      ],
      "metadata": {
        "id": "KZCRjucQgdYc"
      },
      "execution_count": 13,
      "outputs": []
    },
    {
      "cell_type": "code",
      "source": [
        "proof"
      ],
      "metadata": {
        "id": "Fmgr2XcNgdhT",
        "colab": {
          "base_uri": "https://localhost:8080/"
        },
        "outputId": "9cfdc62d-266a-4de8-f416-23d2f736a9c3"
      },
      "execution_count": 14,
      "outputs": [
        {
          "output_type": "execute_result",
          "data": {
            "text/plain": [
              "array(['send:6c266a104eeaceae93c14ad799ce595ec8c2764359d7ad1b4b7c57a4da52be04',\n",
              "       'receive_random_field_element:2948900820',\n",
              "       'receive_random_field_element:1859037345',\n",
              "       'receive_random_field_element:2654806830',\n",
              "       'send:61f7d8283e244d391a483c420776e351fcfdbce525a698461a8307a1345b5652',\n",
              "       'receive_random_field_element:394024765',\n",
              "       'send:9431516ee735a498c4aec3da30112e417b03e55e5be939ff44ca8a0a62475b15',\n",
              "       'receive_random_field_element:1705983878',\n",
              "       'send:584b4b88a7f296efa0309d8e6faef13573b1ee5dfcb02ed8be5d853172f3fc69',\n",
              "       'receive_random_field_element:665918954',\n",
              "       'send:2debb983bb6473a5d4e9046944fb7ef66ef814c64f58ca5d8ebc2a15ed61ca4a',\n",
              "       'receive_random_field_element:3182659911',\n",
              "       'send:5da75aa9d9a9a564d7f19e431cbbb91eff030c353f3825dc5352674d1b7813f9',\n",
              "       'receive_random_field_element:2692084106',\n",
              "       'send:8ca6b618f3d758e7a99c4988e3a30e5c443f6f4ed79c64b698b031cca67ee4c2',\n",
              "       'receive_random_field_element:2453626065',\n",
              "       'send:db00ee380f0b1a9c2aa37efe2eabca468a83370046cf824eea9409e536256996',\n",
              "       'receive_random_field_element:1002265597',\n",
              "       'send:a6d9f31455568dbaa05c3c4dd8d4aad4ac217013a4b9f0c685457ce5394cea6c',\n",
              "       'receive_random_field_element:1722272171',\n",
              "       'send:709c8ae9501aa83f098698dfd20c5bb541286ffbaebafde9b296b22c9d67f36e',\n",
              "       'receive_random_field_element:13281110',\n",
              "       'send:69364a77950e2b5c02e6c8093957b42ad922bf894fc16461ecd9936b83ef4332',\n",
              "       'receive_random_field_element:1881985476',\n",
              "       'send:b0eab5d7c37841c712b85462b56c8da8d0042f38907d92079a810b2565714d3e',\n",
              "       'send:-203564369', 'receive_random_int:3477', 'send:1231190055',\n",
              "       \"send:['fd22d0af72c43247ce70d7ee3f6532037e95555386934dc886c455e26f8a4675', '8fe2e3193f8eeb219a110f6b6dd57c89626442ab2956c00eeddf9ab06a4c0c5b', '19a67ad7b7409a87cbb03014c6f6ca691141a7f7e1914e682299f1aaa15e1c6e', '877cc5486aeb7e860599616aa80c99b40128d38554e7f4622c9489d6992bf8b5', '63519da3893763e6b74137750033d0e890dfb704613975620514fa6725d8d49a', '9456c8ca3c5548020daab6e5da0c202f4a397a805db8120d2f0e5d7717e9f6ef', '1d1a52cb0401ebb6d73f65c20846d2275c357b2221addb333d808c8fc46211c4', 'bba4dd88fc982200427a912a8d12590334f7adfcba1c68b2abee1c7c3c216951', '1abc7041b926c1d7eb746b5cb71a831694e44a87fc21adc4fcc74862cd70b5c6', 'ff15ca9f8f078015f2934f875abb5d61f7edd9a4d66470121277d70153930240', '909507e1e04efe70d6f7a2ea0e7c26e815af80b9f15b19fa4d3c478a0277a07b', '7be577f2098ed00292685045f23a559efdeaaa1e79edeb9e63282d68d3872053', 'c741164ecf125076a6b283e1d948bacc0cede485163de5298c55b225fc9fe0f0']\",\n",
              "       'send:-1105671011',\n",
              "       \"send:['fd22d0af72c43247ce70d7ee3f6532037e95555386934dc886c455e26f8a4675', '8fe2e3193f8eeb219a110f6b6dd57c89626442ab2956c00eeddf9ab06a4c0c5b', '19a67ad7b7409a87cbb03014c6f6ca691141a7f7e1914e682299f1aaa15e1c6e', '877cc5486aeb7e860599616aa80c99b40128d38554e7f4622c9489d6992bf8b5', '63519da3893763e6b74137750033d0e890dfb704613975620514fa6725d8d49a', '9456c8ca3c5548020daab6e5da0c202f4a397a805db8120d2f0e5d7717e9f6ef', '1d1a52cb0401ebb6d73f65c20846d2275c357b2221addb333d808c8fc46211c4', 'bba4dd88fc982200427a912a8d12590334f7adfcba1c68b2abee1c7c3c216951', '1abc7041b926c1d7eb746b5cb71a831694e44a87fc21adc4fcc74862cd70b5c6', '9e08d645a01e015dc83ae756965039c1956abf20d25423214a5fb26c18d509d6', 'deff0da0f8997a3883c05c2034d328370eefd95772714d0622c3bd624d7097f4', '92a30b1f73d57e79356a2a904c5e32e1224de36928255eab7713e5a655bee7ce', '3ca5be9b17a20490666ae6e1c14554811bf88a5f96b96a9e618c4846ce4c246f']\",\n",
              "       'send:-471637029',\n",
              "       \"send:['fd22d0af72c43247ce70d7ee3f6532037e95555386934dc886c455e26f8a4675', '8fe2e3193f8eeb219a110f6b6dd57c89626442ab2956c00eeddf9ab06a4c0c5b', '19a67ad7b7409a87cbb03014c6f6ca691141a7f7e1914e682299f1aaa15e1c6e', '877cc5486aeb7e860599616aa80c99b40128d38554e7f4622c9489d6992bf8b5', '63519da3893763e6b74137750033d0e890dfb704613975620514fa6725d8d49a', '9456c8ca3c5548020daab6e5da0c202f4a397a805db8120d2f0e5d7717e9f6ef', '1d1a52cb0401ebb6d73f65c20846d2275c357b2221addb333d808c8fc46211c4', 'd00d6abe5f08ee43a6eadef939a59a7b81f2f580287edf48a3fef27ef65a921f', '85be1f4a071ec59ade4f306648b83aa5647e0ccda55613c053fd5fa2c44ad71d', 'cecb314de4cf8f2463a21b9f35477438420bcd2258db41531ae797165e5c4f84', '3d855fab43d0193fbb279cb1b66e56ba46aea3f2cccfba82d45656dbf6f3cfe9', '1a036dfef682ee3f6bac010184d3f81cb2559161a9b6cb508794a7efef540a78', 'f2cd065af7570ff48601f5ae41c486b165641c8a9dc9d78fe0d6002362a99248']\",\n",
              "       'send:1440548063',\n",
              "       \"send:['5cffaa845ba29f0dbef1cd02b4898cdf8c0868f6712290c30e826c3f37cb8740', '3c1dd0948a8c6b4eb844f835563a0f4584a6db0ac50291dbbab3cf84e4b08849', 'd2ce53673ecaf6a83b326a81c44a1321e0411a295acbf838beb806a0b5c2fe0a', '071bd0e29dd65c1a57affb42712a54a6b285be3ffc0794de053bb2d4952d43ec', '5f718186b72fa5c0da70e3137b5e728819bd18f24e38125c2f90afd7ffdd91f6', '319b7a9a123cc9b3cd078d0334ddc03300c4467bf86468d028ffae098bd2f69a', '08faad56b80e143543b6bb5b32707da057efabb4ae582379d8815b9d8f31952e', '784e0bcb8b536f96ea56f004af3884fb93d009cdc3c63650fa8533888a471404', 'ff3556783d1ffa3d2583228c1e8d1c16b65ab19bff6e35f5fb8486669da54a33', 'bd7d7fb343a409b131548f8fdae047ad88e779c46a548118a2a3899c6d4e6a77', '99f6aada2ca450423ebc5bd6a87faec138453d4350f2d06bedc8fa202cdfe685', 'ad236fa4392a820a8ffccb49d6e401490d373fa2c9dfade535880a1112ce8ff1', 'e34b5a443f4cb1714be9c4746a57a4690569dcfc380e33854768d8acc90d8df2']\",\n",
              "       'send:-191755058',\n",
              "       \"send:['6043771f91f90dc1a7602739cd2fcf7962686e96ca503362febbe6247e4a2541', 'e87aa43048cbd39ea05048a3c2113515fb5926cc9b51c3cd3f3b371309c84c47', 'd7c29f1553c4cda6f4a455fdc9c3430178461aab382360e7c5e43f08a4b8e010', 'b76f7a11a71186e348cf5f56a6b1e445e88643d6b65be19681998c7f5052b3a6', '355d87ca9bc41238ce945d6eacb6ae2c8361bf276f7371f12be33cc9d522aaaa', 'd3e69b5f80a9425de7f14fc189b4a9f8d99445b011c648e3d37870abbe1a5490', 'ac587418926e30d38f0d4a2ec9fba5f37f3a707d8860ae3dad1524ee0dfcf16d', '8cd53403f46879e4841e6b57d2faa27a7cf85ffb69a2dd9c7baa96764149a476', 'ccf3db7c03efdab289f041ca53b579baed41bfa3784a9fea17e77c95fdb74930', '0959eb3a52b12efb007eedc062b5252d685a4bf205dfee39c4efc0eff79645c1', 'ab6a70e789253f6b8b5f652db6db127f4ab1dd8b4dc4871e1c051ba71ee8590a', '36170c214ac61b7d1920ac76c387855d220f8e1f462e1f63640e2fd5350340ab', 'bed5a0bc1413a7ca6bdb89f2f00cca82022c59eec3f46b3e819c85bc0e9d88f4']\",\n",
              "       'send:-146585918',\n",
              "       \"send:['859310bec4b545625d433fc643a342cc97bda6e9f18a27178247d22cbffd5f2c', 'ec8930689bcaeca87240b0b0713b9798b15976511d727688f1280f66838918f5', 'e936d296114011a1497648a1eb94d0998c3f39710e46e0d399c908da5121a0a8', 'c6d4d38fd3947e1ff6dc84d369490c9fff784c307f1752166c37b5f6f45e0c5d', '419fc96dde2ac5511bd35960c87b1987008e8e492bf50d27695305e575d7a585', 'a6ba9b9bf8de7299e670e32c9e2bb2a12d9e8b4ae773d911d8f49d72423a633e', '26b51526023b5420a8826283132084114e74d83217cfca4ebaf6b85f6b0b1827', '0b62535ea11d4cf6d67f3f643231e13e6bb546796424abbc777d3d8b7f0d723b', 'b10ae54ae95b0be3e7f056c70868503534248b0989d9bf8275cf2442d7a512a5', 'f913dfa24d1bffbd10b10187c52140f7a64bf8766d614b63c2c8cf84c1db8f4b', 'b48372436c7a70b69dda7dd30114bf8673e68a907626d6a2906b1e4eed698983', '48eb54169f56c542d99f6cef59fc66ab5bd7661e83147f3ec3eefd67f79bd0a9']\",\n",
              "       'send:-1072604291',\n",
              "       \"send:['2076e8f36abcab8d848b728ade031f692f72d344820326721a7de9e5b174f823', 'cfff6f057bdab60556b9d2731a00cd2d5fa606cde0eb736113203d5080bb93f7', '021d81b294a3b6003df8fe05d0aaaa75f6522701438dfbdea0a9f0d1451f3505', 'b1ff6804da064d9e7a23647af3d488938c86dbc3a0ea38fde8af0c793d454a5d', 'df3d8a15d45587e8fa035e12b24d8d7aaea5bb616e6a5b05483280f6cf232665', '7f1d59104ab247209da6ee1bcc8248bbca0ceba7f523c45d1f21c3ad0d462cb6', 'c115c2dbe4ad04a00eafeb6a4b9902a260d81b25016b7cdac4bbcdd8207f90da', '8e9b70b4e1440f45e8c3d2051646e479a1dd5bce47dec05838931850e15c7626', '89ff27b4e797db56972f84f3763e1b93c9b6e21b1a5f493d5dddd557ee8d7cf9', 'd73d25504c5c46f3776aee7e7756db31badf0a33de18395fd2aba87786df9a5f', '070a79ce2ea8b3e9e45228bae17c7a4ef8af75ead2d7f2d94caaefc8da93b32d', '290ccc6a3c0661cb796c0d2752610444e52dd1f207fd7b42da5cea6b6e88ee0e']\",\n",
              "       'send:-951375104',\n",
              "       \"send:['c811a667747a3f3ea7c328fbe4e48d45b5f190a67e5ab4082de5b5c36f560e6e', '96f4531cbd510e143bbae204a4d4cc388d74b7576ed631fa18fb492624fd5417', '645865d05840dff208b50e7ec8a915224e3a5fab1cad5605c2b4bf0d1f9ee383', '23b18267e11ff999a9442ccfa535f3dddee906b598ad803d43afc8a92f69a4d9', '6c9ee2e6c4dfe361d421f665841f74e1c8168db31cc472483a47c1795316cd30', 'f3326d653b682e3e7f08c7191af6ca364afbf05dec0b1143a84c198fcdc7cc7a', '56f30bdb4b72f93d0b33f695e194fae5ff85788e168384d9965105a82c554ba4', '4595e03ad4018033c3d876d57cbedaaa4ee4cb04140cd41c9d3528ac60bacc71', 'cbbfdf3d8c681f007e8b55e69844b49076a1e2794472d6b70918799af706d936', '127792903cef9baef6eaf254afd0d0cdd1048348bfeab00d532c6c12ff3b00cd', 'f8847106d1e694d3e503360a9d37e9177f06fae4ee8fd597e0bc2047a28eb12d']\",\n",
              "       'send:1519993673',\n",
              "       \"send:['a004dbf3a55dea6108460008bf7cc8b8bab618b35f4ba5faaf7e44bda5b53d3b', 'da09c59ad9ca99c21ec8c27f48144a05bb049b21384aaecfe699e5c4ef729eb4', 'b4698a4bfa7d4d841185591f796d6763b18c658dc8ce360642fe3b6f5a5ffc03', 'b30adb09059cd659cf5f299c0b452ef70ac407dd17228244533a06860e44fc6c', 'e2129d35643b0e9cf21eb97441395882897305022763d214378b9f8e959b42bf', 'c45dd106f649a0c5dd4a2aa8e3f3fc4d83c187a80333307c2f5a1c5b4c56baff', 'ffc8722e46466ad3fc74aa09f979abfa2956df13b378cf5b46ab4b91dc985a0e', 'd793b50f418f75cdc6e1cb000e09d75d54a94a6733ea4519b2e5740dbc102eb6', '5fa03a69e5cf1d96bbe746adb849b6261982d5b8f237cf62d3fa5e55198256c5', '8208e46b45659a27a022290363882d44ee17c9e829d2943dc43206ca91ba13fb', 'bec24e5132ff1cc807313d000d5ea7dc554815ee78603830d1559f868d7ef172']\",\n",
              "       'send:1229912750',\n",
              "       \"send:['3e796af4fa69dc6dad0a1e5733ff24ee385618fc4067ddde07935af542f8a86a', '92413a234570666f32f94db5da5a356e9456756b687e91c006b4487a0b200688', 'f3b984740c60dc3b49d5d166fef9a4d02610f0629d89fc5528efb3384494d228', '61cbc8e43544d4821dfe95fe75696ae08901723c5ac7a823b93bf8668fb8f599', '8e57868bd7b721f352041ca200a1d71ec3ed27a741a2bb99bf03881ed3c139f9', 'f2b13e204a328e0cf0f257e8f4eb0230c1e78a6e5ce5285d0bbbfac958699235', '6c954873124db5b781f0bda104882e696a65ed8e0831355e3db6000f906e3dcb', '03a95381ef8ae3ad67e79e3720788d13f0fa412e72b2b3fcc409bb57be43c740', '45632c0655a89fb46065b0c86130443503dd694d2aa8dd7e79eb447691fda80c', '2342361a769fceb1feb9e1a24f057e08854c9e78fa9cb75b0567e33eeb67e6af']\",\n",
              "       'send:-1112304252',\n",
              "       \"send:['88a8073ff403cc9fc20acd3b718b8daa8cd0ae793087ee566099edcde4e47809', '0361576bc9759723104c9fe7766ba813d50956ffcf538bb038628355bb608802', '91133f2a940c6f7374f0571014c0aeb783dfc08edb3db6e62fcb0c4ba3033f82', '5dd764801515e6dfe6ee820b8dff22ff125bac9b42ec3abce9d5d9a990a40c20', 'ceb2c008ba179f29d65cd7394dccb6ff33a062726756d17c3324da110fe3e69b', 'cfbee2e02ef553672dae778642dceed8d7639376b824b5fb662165b7d2b2a28c', '2ccf7724fca5783836a0f1b0ca62dbdf4c7d5cd824c35293ad2b5ac4a435d9cc', '4bdcaced32863d67bc6d086f17d6ebe366c4ea683e4006bfb82a108180cf7ac5', '0513d6774ac99d7facb754b61fc754b99be90907b9491d8ac9e881db0dc466d1', 'ab522c80cec7db850530a8c118eedd047d087dcaa145af4a3d7d4c2662270b9c']\",\n",
              "       'send:-642744333',\n",
              "       \"send:['962596c31832598193af509fc04c43443b3d787fdb3a6d89747ff287f977677b', '59e8ea0fbcf5a988faf480d29fe85125c8b4779db02ce516cd3a236622e14238', '5acf2bd0dad3f9bab95a41cd359ce467ffc15d4601512ee65e7c624d0175f636', '4097cc020370a82b488c76deb5726fe7f47e021b454b34841362260fccff5555', 'a9153819ba95118615930c0603b01df62f76bb0bfa212a17d3e4f51ba1dab7b4', '8d6d425efe39695022308209a4cd3fae614480b593e4e6caa391172a010d422e', 'a24e6290a26385637faa17f8826892b0ee923e16966d3ba8ca962e718a33e970', 'b488e0f7edafe6b1ebf624dc1800df0e52a851c14b6cb6b0dc87a788f99cb0fd', 'c9fe001db27c553e5a33598f0617b6c0299c17b4d9aa6bc43c27989dc28dc0c6']\",\n",
              "       'send:-912794522',\n",
              "       \"send:['dd089bfb2ff81017053b29d21ab30b4b7e9add84feaf9675153176dfa870063c', '27e4aac38b02363e29beb84d8a4b4692ad58846ff57df590a9bbe933f24aada1', '67c823983000cc9027d155f49fb6baf1564ef8d27721cb706c217e215aac3ddd', 'a2a6db6d4eacc839508e1a92f6552816074f80fb2fa1ef1943a722ba2f769b58', '87bcaa926af9761eb108614d5eb2ccebc66f06b459c409a43f6c142d1fbae9b0', '3ecad7523fd503ab635ac576d367b272dc6aaa6214f19e48b19b9181b18b794b', 'ffb2db613f80bf8b4d3e94bffcc31543e720a949d169dae1cce0d275dab80c34', 'de379fed2215ccf6faf29ef2b0b9a36f35c7d0ccc0c4f939dffd13fbdf45972a', 'd66684d859607e9693d27bc385c878d421f41c2e8fb8388d2569ab7435b512ba']\",\n",
              "       'send:-1059181352',\n",
              "       \"send:['2a28ac9ecea545b1a532ab989c23698e108de2e03e68502ee0f81b40b4fdd465', '65a054c56d5220f4cbd23d4f8e0009ef669b5186c9e07b0ac0b8a20d93e4db1f', '02b334509a28362aecc2d470b57eb2c0f31b87d48746159c7ebadb67cf5cd15e', '4d8652e1c2d4b082085dc8af9d9f15f951a699926d68805d50f39243dafa7251', '904de90e2d8e29b54d9caf08dc2d65e9d1271b1592b9f8311f6c2ac384e893f4', 'f0e0d0dd287247d0cea9f06458309c5520de2bb8016965e68c806e7008bac180', '8efc60fb4d26ae07fa04c1c6a924ea013862e317cfff7a18071bfb0023d5f9e0', '228d38af43b6f9c127b013c653a59ab902393ffadad8fcb755de38d1f5d504f5']\",\n",
              "       'send:-345944242',\n",
              "       \"send:['4f666ec1e123fee95081c2812b95295525edcdcad53382f76b8b7d40e339268c', '30327f2f2b05d4692c3409631d743bdb5eae6e7c849f3f019b024f503963c028', '3bc48e8a05964abfaeb7d9a75df0a746f804d8b0023f7e3e3f3e1db04fa937c5', '0717dd016217bc0d2f6f280f387c6d998f7367a85212d347a0ebb127d7da93e5', '2322d2f8ffe67b7cf89715250efe515e05d4d8969eaeb603e41e1243e94b4937', '33ceca30206f753ddcc0608c278c50b4bfecaccfc8d4d6df9d8cd03d871f74b5', 'f61aeed99688fc8d6cfde71707907dacdf19c5ea2e26fa6e896577423ad2382a', '3f79459e4d62439eace4b3c9fa01c32c19d05e2ee89aeb5807b58ecdbbe7e70c']\",\n",
              "       'send:-1400786586',\n",
              "       \"send:['37eba724ed0dace180d29dbf78202c4be0158d6c077461c11c7819a83126788a', '3d3342fd8f6fca979fd7c384a6cd97ad3dead21ac3f2c330771a0f3c674770e5', '8c2b25e38593156d2ed5ff49bd591ca39cc62f80924bb0f430cfd005aa46efe0', '55b7b24aaf9ade1b5c521efcf3a5d6499563f08fbc19365bd05ff342318b07f7', '2a28cc08e6d3f9da8eb0c9bd25a14b25f8bfa18c5f587369a7bba95501c227c3', '162d70855a8675f84a384ec1b75d5840d843a1e0db70342581d8314bd64a4db7', 'ef73e956dfec4f6e7812816b31c52aa1fa8fad28f58abd3001d634a64b81f2c1']\",\n",
              "       'send:-1007541610',\n",
              "       \"send:['693128858f0531d220b0581972bcde57b7bba93b76727969042fffc3f7634b43', '0c188a1a9aed7e049bbfacb067ef53e99ad3ad2d9d21ee75d05a922047219283', '8ca1cd3cf81e7202ec822354cbd9870e918b3397834f8b488a43ab1522e76f39', 'ffe1b3cbeee66ec2b81212d4f1338386eaa35ddd080cbcb706414437dc5100d4', '1f5f97ce4621fbce4bef889874d217a3b85b23a20fc1b3ccb1e7e85cffb53383', 'a2dfa4ee93ba38c2500b22fadc4ce324579ff0ab5e7cf7a9512b3253c7511309', '82ff66f1f8328da26cf778310d02b7e5d0ce58eeca1523b21392be185ec92c84']\",\n",
              "       'send:1211145321',\n",
              "       \"send:['19c628c94afe0230d0f307b420b88c34c28d5c89308f07fefd07139c62843d2e', '88802edde86817dbc5f73d65f6306107ff62fe21fa5f6a33c1f03f19d35ce826', '38c4d26dbdb018f413cb1e8147c086ce843975372041ecc76ab0726326e3a65c', 'c870b8899dccf9818859228d9e4b5c5b54fa45a9f6689556cb0c17e2fe427061', '4158875ac26d5ebaa22e3ff880461194d3795832413c7b8dcdbabf8fbc917fe2', '235e0d83ff040a717364a2344138cc90fc44a12ab7c1ff0c516050aa776dd14b']\",\n",
              "       'send:-4322568',\n",
              "       \"send:['499235a4121085316e15719e9096cbec10e762168de16258b87a77c5b685a342', '92384ab4ec17abe49385d4d3fa698fdb24f01b1f1f46b59cf83292bf55ae4e1e', '48f7277a5cd371c7add1bdcad324c549f010e97744d6574f7b6700c19ac1d2dc', '88b4b55151fbebe7aa7743ff1bc806087a97c9d086b3ca11d9bad8d61684d8ff', '85a8d68849bc754c8e9bfe20d6ada27ee9ac2b47817ee167a2945617116235a1', '18e2a392e36721a59568a1b208860b3e4a9049a489a5b574bce3573adbf28e69']\",\n",
              "       'send:947404889',\n",
              "       \"send:['f9525451d3d26ccfaa909ebb3c7c8dc016f691482487b00005585d5405204ef5', '0b2be6e8abe38ede7cae48e433460c3840c9550ca3944c64b36974ee632d2bde', '9d4011b6d543335624e64518b6c33ef0ec7c429028b50aa899ac43d74e4323b0', '4d7fc73100605f70116a98f56d2a48c730d50d9b4eb0fe00fe811cbbb2b4b3d9', '145d53eec7b0cedd90db74cf1d4c262a016870580f5f4404541b1236b53db0f8']\",\n",
              "       'send:-1309963306',\n",
              "       \"send:['5683d69b7fbd9d19f90407364dcfaa44bedada7622bf7cbb9334c269fa36a033', 'ee295380c9993aa2f49c745491c758ac4fd81c9f48b685755f843652a058c2ed', '097ddce41326b845b297854fcf16b2794d73ad57b4086848bced09809736799c', '61322df9e211af4bbb3711c6579e11c596cb84ed9110d0de5c81c3bb2a2e1126', '33e3d8141c059e70a9af57ede9c22838f8fe0db4ef7bf395db34b09b8d3d301e']\",\n",
              "       'send:-302595458',\n",
              "       \"send:['5f81d117e1603ea5f35a040de8ebe282625187ee4403146a4b24131241c2e8e6', 'ea3716375a006cab85db7ffe56c34175c57144d7aa00c5a5d2d4f17c4e478ea6', '297accbe564945dfaad4afd422c9e1409b4aa39c0038fcee14bba6894227473b', '9f9c223237c6c462ca4ce68fd89c7c8888c1163c81687b4db47a16162e9719d2']\",\n",
              "       'send:-227720229',\n",
              "       \"send:['f8e6eace815cb4d339cef9e1e258da3087976a1479476418f1d34b92973b8fd5', '52bb9f4cc4d86651544511fd18c6a58ce92d6e94bff812a20f421bb0e5f4a6cd', 'b2ab77ceff229c41d1c382e18a6b24c0fb4ff702f016bdce619b9bd6636e7dba', '61438b9b4149a6483aafc407698d8a3fda5ced7da17c6644ce97fde7918f6b3c']\",\n",
              "       'send:-203564369', 'receive_random_int:2449', 'send:350278134',\n",
              "       \"send:['fd22d0af72c43247ce70d7ee3f6532037e95555386934dc886c455e26f8a4675', '8fe2e3193f8eeb219a110f6b6dd57c89626442ab2956c00eeddf9ab06a4c0c5b', 'a914616822dec340c44c5f4b0b26abe9ca42c32e5fbbc3ac7889cc2d4208f361', '672e2b3cdd3fb6e71c7381457e94cbd5ad847b3e7b9679492d8a9b52f5573dc4', 'b0563ae042642e42610120f2d24b34563618b10fd5f52502e9d2952bfea91b39', '57347a61bc3e3d55e5e1a561f79e64e6a7752dd35e0f88daf29b82e7fd6922f4', '201d384bb4e6205b55ddbc8733ca6f8bea5a289377b1e1df2abf87a7a4c33c28', 'e5f2ef86f0cafd76699f57c7affe39c9b65935cad73398faf3b7063f0d356bc0', 'fe440fa6b8cb6d81d4dfa1961d87b79ada8cfdceab551a4b42b0ed6f57252393', '6ea4f170ac8aa19b034c391ef87e38d8912480935b61dce262af7961e8f4832b', 'e07a5dfd95581c87a821f63bad58745eb20b9b376c150b9aa9733f7193cb91d7', 'e2a3c931b7fc9f255e4fb080147c99a05251b53f9edcd3c9e7ab42aa11c8f343', '3d0683473851a10a6f0d3cf8c6019ee090e508853c4a88e67edf80944c3a1a32']\",\n",
              "       'send:943074250',\n",
              "       \"send:['fd22d0af72c43247ce70d7ee3f6532037e95555386934dc886c455e26f8a4675', '8fe2e3193f8eeb219a110f6b6dd57c89626442ab2956c00eeddf9ab06a4c0c5b', 'a914616822dec340c44c5f4b0b26abe9ca42c32e5fbbc3ac7889cc2d4208f361', '672e2b3cdd3fb6e71c7381457e94cbd5ad847b3e7b9679492d8a9b52f5573dc4', 'b0563ae042642e42610120f2d24b34563618b10fd5f52502e9d2952bfea91b39', '57347a61bc3e3d55e5e1a561f79e64e6a7752dd35e0f88daf29b82e7fd6922f4', '201d384bb4e6205b55ddbc8733ca6f8bea5a289377b1e1df2abf87a7a4c33c28', 'e5f2ef86f0cafd76699f57c7affe39c9b65935cad73398faf3b7063f0d356bc0', 'fe440fa6b8cb6d81d4dfa1961d87b79ada8cfdceab551a4b42b0ed6f57252393', '12502807eca61213cdd0a8102b2996332c0bd5a958e1475ba81ba8f02326552f', '7a217c9e051050faa6a04def8178ea77d614383fe34bf162c77bd70a29f31eab', '87c81ed5e5a7261df4a13976c134dd171068dcb7ac7cff098187979f4bb4134d', 'aeec4c2267109b6059d51e18b33635f053a846b45df4136b79c0532fcad2be3e']\",\n",
              "       'send:-1194746387',\n",
              "       \"send:['fd22d0af72c43247ce70d7ee3f6532037e95555386934dc886c455e26f8a4675', '8fe2e3193f8eeb219a110f6b6dd57c89626442ab2956c00eeddf9ab06a4c0c5b', 'a914616822dec340c44c5f4b0b26abe9ca42c32e5fbbc3ac7889cc2d4208f361', '672e2b3cdd3fb6e71c7381457e94cbd5ad847b3e7b9679492d8a9b52f5573dc4', 'b0563ae042642e42610120f2d24b34563618b10fd5f52502e9d2952bfea91b39', '57347a61bc3e3d55e5e1a561f79e64e6a7752dd35e0f88daf29b82e7fd6922f4', '201d384bb4e6205b55ddbc8733ca6f8bea5a289377b1e1df2abf87a7a4c33c28', '92c66093ae1dfe2313b276a0ea1bac87fe41146a95e0f5e43374fff3ec24b141', '3a0bdb372c1465ac2fa23532165751950009e0c073bbb7dd56097e11fe1fecbd', 'ac7a9048c1767b72aa1203814e9cce9f7230fd1845cdc552a8ed3437eeb464aa', 'b42de1ab4182b53ac202df779819b9f20c1328542fe5fe0a00856cf89a34be9f', '26b7b05dca6b2e6333cb26c4e64b4555262e6bb9b4eb8924a02644740b907b1e', '2ad449a924e13a6923925fe5f001a6e6e15f8af273377907491aa84b0fd13cbd']\",\n",
              "       'send:-44902163',\n",
              "       \"send:['5cffaa845ba29f0dbef1cd02b4898cdf8c0868f6712290c30e826c3f37cb8740', '3c1dd0948a8c6b4eb844f835563a0f4584a6db0ac50291dbbab3cf84e4b08849', 'c0c56d80e5600f61cff514290bbe252a465dae7c5a602b965d0df01301edd46c', '62af1b5b6e84ccb681c2ec9860c59ec6d204d493ee2dd3b8a7d6665d0c99ec3a', 'cc8f10481026c2273153d90f47abe4f4841ae46aca4e35f16106939032e39fe5', 'b4030a2d80c28af6c5a807cfba85d7276de92fe4b61f25788a705a4dd904fcdb', 'e46db5e24e5c3e6a158827c9ae8f2dd28afcc84a4ef001d1488acd70b6807d61', '25feb43f4fa9e11d430d743c78af5c0beee7019da085658c995a7831fa139f19', '314675881e5da6b5b85aba3040dda79acf5e90a05010c05150bef6fed4927f29', 'a9fcc80a1239ea5029fbb1ea084a86b00e5febb5b39ab4669ddceda1b45ad46b', '21024e1dd9e61850c399466d98352cda3f1db860732af83925cfa1e1615fccf0', '55db9439e3cb8841717287a2995d7705485830de37ea2e6380240efcf0bf97c8', 'a154253bc306fc25f5986d6bd5261d3613ab74dba3e3e49d87b6d287718c82cc']\",\n",
              "       'send:1296312558',\n",
              "       \"send:['6043771f91f90dc1a7602739cd2fcf7962686e96ca503362febbe6247e4a2541', 'e87aa43048cbd39ea05048a3c2113515fb5926cc9b51c3cd3f3b371309c84c47', '3788a4ecb2f7cf0065a37f3d8221720f45779fcf0c67674cacc550f4403adc31', '2d4ac8eb5c5c74fdf4fbefb02de8f5d4821dcf9524900ae300c40a438d3b1537', '6d64f0b1f578efb70585b907b9032eed6144e33f0f1b367bd02a4007d49d59f3', 'fdd345211eab5d64b7a7b8d9a6061d35c1e44e92121d31495575fb0c387ed748', '4f478d2bc5ac5dfcfa11cb54dcfb3d8b8c1daf12aaad05a23c15747d0f6118a2', '5dd9cf0f5823013053607d8ced79ce329445f1fdf76e9bd0122893882a429ca4', '1286bb782c4f34635ea92178bef5768f6be5663b8500716a8c2d9eed7cffd1bf', '32f6191d9e045b85e746d7973adead1a334d60fc12fab78e6db4e7b53bc92a67', '30f4bb518dea2f63dab49c4b3f452f13e2699590501e0643b4e9ccd33345095d', '8737c78ef7a1f2647066de157217514024e51f73d013c0d143544cbb4e430be0', 'bfc7f77b39d4572a7c5ff639719981c9d73225136b0deab06d83904e64fa5a90']\",\n",
              "       'send:662007899',\n",
              "       \"send:['859310bec4b545625d433fc643a342cc97bda6e9f18a27178247d22cbffd5f2c', '7339c927dcaf5b38a1f3634b6ca7c93c981dca02498d790518612355c8bb8fc4', '535ecdca5cf617bf72fc838f86833cdffc483993f543c283f60081703670ad67', 'f75a45c046662b21e33a8fd4063a10b4cd5a6b8fedd258873fa2c1a3d79d9118', 'b098f089d658ed882a7303207d48d7f93aaa68ac12282fa0ba02e2b90f14a6f8', '2d97ed3b947943ac590ff8450b78a32d68efc27533bbdaebd19fc82a07aff860', 'f1f1f577b8ddf39bc463833879a8eec087204db6df42a019724040e2e8e35590', '345254ce3730c8666fa0b0088dbb3ae3fe3acd3df1dbf03ac86d9b6be5784bf4', 'c5b6dd163e6964bb78c37644af54ad145dec410f2d1337b869a3074b50c6fbdf', '7382886297aae987fa6aeb6a14122d11bc5696de7950c2db22583fde7565ec5b', '9dd2cf45f9b61293458fdb03fce4f5fc0c24222f8e5a814a323ded3b92b2afdc', 'a8b709ea98757380e3d92d4573398cb90fd3acce3d33a919c92adfa633463c4e']\",\n",
              "       'send:602987983',\n",
              "       \"send:['2076e8f36abcab8d848b728ade031f692f72d344820326721a7de9e5b174f823', 'a0cdf571918304f5eae7310af0205c10e282633d85b5f09320518f72027bb802', '6d5ccb60f84822a8dd6b29c930fe1bea8092df0d8055194d1287d149552a2b98', '476db7139612394ef411d8a1930cbd1a4633b030b6aa72532302b9a65542f28e', '0929f29c41ad2394bf33ff49b46431449ef1873fe2f99176712f1f9215a79635', 'a522722fb61a6df21c38d927db00004d232f8c580a221eec43ac1b25098fd512', '0cf054a17fa535796e234dc53b760a857206c14a327614c471a2deadcf9b57b5', '518f702da05ba48546a675845166dd23642537c88b5edab1848bed34271c5e37', 'f98d9ff73cfa15a022d2297f9a057ff112a4b888b3302e4170293406d582f894', '3d716488a070e72cf91553b8cd03b5dd40141ebafcd8abf09c5ed5dc815b3eb2', 'c672147bf3b415026852398bafb886afa190d77753762154b203c7d6d366a6b6', '2b46b52b83107045f74ec04f546e8558492ee7fc252babd9c5314fa6ca5732d8']\",\n",
              "       'send:-1129739021',\n",
              "       \"send:['a004dbf3a55dea6108460008bf7cc8b8bab618b35f4ba5faaf7e44bda5b53d3b', 'da09c59ad9ca99c21ec8c27f48144a05bb049b21384aaecfe699e5c4ef729eb4', 'b4698a4bfa7d4d841185591f796d6763b18c658dc8ce360642fe3b6f5a5ffc03', 'b30adb09059cd659cf5f299c0b452ef70ac407dd17228244533a06860e44fc6c', 'e2129d35643b0e9cf21eb97441395882897305022763d214378b9f8e959b42bf', 'c45dd106f649a0c5dd4a2aa8e3f3fc4d83c187a80333307c2f5a1c5b4c56baff', 'ffc8722e46466ad3fc74aa09f979abfa2956df13b378cf5b46ab4b91dc985a0e', 'd793b50f418f75cdc6e1cb000e09d75d54a94a6733ea4519b2e5740dbc102eb6', '18de77b13b060d431d7853438da9ed93ccc2d481d68cc4a7359abcd5ae3738a0', '08d5d34d403e959c06e2c9fb233a3cfe676e077d41e2f8b24a425419dedf7cee', 'f8f9487fd1b8f7a6ab01c2277be6cb2fdc0f8656c488136eb91dc460b1dcff25']\",\n",
              "       'send:-680144512',\n",
              "       \"send:['c811a667747a3f3ea7c328fbe4e48d45b5f190a67e5ab4082de5b5c36f560e6e', '96f4531cbd510e143bbae204a4d4cc388d74b7576ed631fa18fb492624fd5417', '645865d05840dff208b50e7ec8a915224e3a5fab1cad5605c2b4bf0d1f9ee383', '23b18267e11ff999a9442ccfa535f3dddee906b598ad803d43afc8a92f69a4d9', '6c9ee2e6c4dfe361d421f665841f74e1c8168db31cc472483a47c1795316cd30', 'f3326d653b682e3e7f08c7191af6ca364afbf05dec0b1143a84c198fcdc7cc7a', '56f30bdb4b72f93d0b33f695e194fae5ff85788e168384d9965105a82c554ba4', '4595e03ad4018033c3d876d57cbedaaa4ee4cb04140cd41c9d3528ac60bacc71', '8c46331ba477b6baec2a439dd20ed1c5ad9656f0d7523a971c6f232ca887a2f8', '57ce1db1b46c2ab66f8b1ffcd88cb9257a98246c4008bfeeae255ef3e0d680f8', '740b6f2351b8a8a897aacb72d60eb0fa58b8c4c9aed047ee4a1515af4a05822f']\",\n",
              "       'send:-1173137843',\n",
              "       \"send:['3e796af4fa69dc6dad0a1e5733ff24ee385618fc4067ddde07935af542f8a86a', '92413a234570666f32f94db5da5a356e9456756b687e91c006b4487a0b200688', 'f3b984740c60dc3b49d5d166fef9a4d02610f0629d89fc5528efb3384494d228', '61cbc8e43544d4821dfe95fe75696ae08901723c5ac7a823b93bf8668fb8f599', '8e57868bd7b721f352041ca200a1d71ec3ed27a741a2bb99bf03881ed3c139f9', 'f2b13e204a328e0cf0f257e8f4eb0230c1e78a6e5ce5285d0bbbfac958699235', '6c954873124db5b781f0bda104882e696a65ed8e0831355e3db6000f906e3dcb', '1ee1d29dedf683017154867c711ed14e17c42636807aafc8ab8548d641c5b5f7', 'a56574388ac9bcb70cc86c8219992589c0dd511cccc9a26419ec85053de6ada9', '359cc57ca128204ef34c8a6955e82f29ce4d35c67dac5787b533bf7bdc8650af']\",\n",
              "       'send:-815237547',\n",
              "       \"send:['88a8073ff403cc9fc20acd3b718b8daa8cd0ae793087ee566099edcde4e47809', '0361576bc9759723104c9fe7766ba813d50956ffcf538bb038628355bb608802', '91133f2a940c6f7374f0571014c0aeb783dfc08edb3db6e62fcb0c4ba3033f82', '5dd764801515e6dfe6ee820b8dff22ff125bac9b42ec3abce9d5d9a990a40c20', 'ceb2c008ba179f29d65cd7394dccb6ff33a062726756d17c3324da110fe3e69b', 'cfbee2e02ef553672dae778642dceed8d7639376b824b5fb662165b7d2b2a28c', '2ccf7724fca5783836a0f1b0ca62dbdf4c7d5cd824c35293ad2b5ac4a435d9cc', '978e83d3f91a0b5c19b96cb0157052bc94581fe65290ba40fc9ad0ac4648d904', 'a0c48056c826fd9371d069db398336506f0c80c532194f3f75a74c0fdd3d3beb', 'af20df4050b52c8356401ecb02701028a0c8bed8a2964a94ed5b7a00ca76aa50']\",\n",
              "       'send:-1438785324',\n",
              "       \"send:['962596c31832598193af509fc04c43443b3d787fdb3a6d89747ff287f977677b', '59e8ea0fbcf5a988faf480d29fe85125c8b4779db02ce516cd3a236622e14238', '5acf2bd0dad3f9bab95a41cd359ce467ffc15d4601512ee65e7c624d0175f636', '4097cc020370a82b488c76deb5726fe7f47e021b454b34841362260fccff5555', 'a9153819ba95118615930c0603b01df62f76bb0bfa212a17d3e4f51ba1dab7b4', '8d6d425efe39695022308209a4cd3fae614480b593e4e6caa391172a010d422e', '976831d35ad326f684c52743b355a9ea67808bae54e3c1cd73dd4778e1a3ee76', '0596dcacf0f3205e149494f4a7e48d246885216dedab7f3a9fec41b1919a6e6c', '0039900d52d173a2fefbf5672bbf6872899438773851e81921558fad010c748f']\",\n",
              "       'send:-1196772453',\n",
              "       \"send:['dd089bfb2ff81017053b29d21ab30b4b7e9add84feaf9675153176dfa870063c', '27e4aac38b02363e29beb84d8a4b4692ad58846ff57df590a9bbe933f24aada1', '67c823983000cc9027d155f49fb6baf1564ef8d27721cb706c217e215aac3ddd', 'a2a6db6d4eacc839508e1a92f6552816074f80fb2fa1ef1943a722ba2f769b58', '87bcaa926af9761eb108614d5eb2ccebc66f06b459c409a43f6c142d1fbae9b0', '3ecad7523fd503ab635ac576d367b272dc6aaa6214f19e48b19b9181b18b794b', '7fc03332e6314443134d0a603880bce4e813d7763633f41ae466f70ecd65e24a', 'd2b7bb37b61871824c162bb3b9d29f3a1ab5a42c79306906e9382ba74a62c226', '2a022b34794eb225288b732fe66d35bfd16afdeb67eca2a99e8a08157f488bd1']\",\n",
              "       'send:149700594',\n",
              "       \"send:['2a28ac9ecea545b1a532ab989c23698e108de2e03e68502ee0f81b40b4fdd465', '65a054c56d5220f4cbd23d4f8e0009ef669b5186c9e07b0ac0b8a20d93e4db1f', '02b334509a28362aecc2d470b57eb2c0f31b87d48746159c7ebadb67cf5cd15e', '4d8652e1c2d4b082085dc8af9d9f15f951a699926d68805d50f39243dafa7251', '904de90e2d8e29b54d9caf08dc2d65e9d1271b1592b9f8311f6c2ac384e893f4', 'cbfb6500eacf7f30bc68e9904d23ad994e311bd2cdaad38f81689c4ece59f436', '14fe7214861530286b8aa1216d1ddf339aefb8b406a69dfdc3a2d8959dc1581a', 'a8ba422868c196da49ac588d80448fdfe8870a0b095259ff0774d7deb3460889']\",\n",
              "       'send:-1309398126',\n",
              "       \"send:['4f666ec1e123fee95081c2812b95295525edcdcad53382f76b8b7d40e339268c', '30327f2f2b05d4692c3409631d743bdb5eae6e7c849f3f019b024f503963c028', '3bc48e8a05964abfaeb7d9a75df0a746f804d8b0023f7e3e3f3e1db04fa937c5', '0717dd016217bc0d2f6f280f387c6d998f7367a85212d347a0ebb127d7da93e5', '2322d2f8ffe67b7cf89715250efe515e05d4d8969eaeb603e41e1243e94b4937', 'a4e4447bd1b66a34c4b2f406573f7edb68f9baa13d0b71a3361916f721a6e95c', '8bb2aa215bce028a2a5011455d64c0804f2bad2c56d1703d4efe81f71522df51', '6a0cb50c8756f835b2facd488bf9230231e9773c02cd5afb3eb7fe5f2a3861d4']\",\n",
              "       'send:557742727',\n",
              "       \"send:['37eba724ed0dace180d29dbf78202c4be0158d6c077461c11c7819a83126788a', '3d3342fd8f6fca979fd7c384a6cd97ad3dead21ac3f2c330771a0f3c674770e5', '8c2b25e38593156d2ed5ff49bd591ca39cc62f80924bb0f430cfd005aa46efe0', '55b7b24aaf9ade1b5c521efcf3a5d6499563f08fbc19365bd05ff342318b07f7', '61d9381c763f4edfbdbb4f21856baf2f7b69d45b576322d5eab286ad368ca623', '60e99ab4c7d927ff92711ac00c25ffcb3ea40dcdd5b5a758419c0b4955e31ab8', '8c5b4039a7b95fb80abe3ec905112a7c3d4a5f65c8bd33d1d14e55ad64f1db0e']\",\n",
              "       'send:-1290381267',\n",
              "       \"send:['693128858f0531d220b0581972bcde57b7bba93b76727969042fffc3f7634b43', '0c188a1a9aed7e049bbfacb067ef53e99ad3ad2d9d21ee75d05a922047219283', '8ca1cd3cf81e7202ec822354cbd9870e918b3397834f8b488a43ab1522e76f39', 'ffe1b3cbeee66ec2b81212d4f1338386eaa35ddd080cbcb706414437dc5100d4', 'f6349869429b724d1628230020e4748f0b0b11dccc0f470a608764f4684d178a', '020679b7324955f153ddf1dfa7febb6421c77684808142823b054d825f4eec88', '47e13045401a1e09be70758f714db4006e4a6999748113261b0ba59112bbdbe9']\",\n",
              "       'send:-1359475767',\n",
              "       \"send:['19c628c94afe0230d0f307b420b88c34c28d5c89308f07fefd07139c62843d2e', '88802edde86817dbc5f73d65f6306107ff62fe21fa5f6a33c1f03f19d35ce826', '38c4d26dbdb018f413cb1e8147c086ce843975372041ecc76ab0726326e3a65c', '537b9d6ca40766ea8212a78aeac26ce9cc584496bb47bb29d28384e3023a9de6', '00585aebc5dec804cc22e037220f356af1284a671eb2f32e965778a0e31e51f7', '46b01e4262caa96085c01e1a555fab8ab6618ce18e4278dd04c8f6c9985d0ce0']\",\n",
              "       'send:-928255401',\n",
              "       \"send:['499235a4121085316e15719e9096cbec10e762168de16258b87a77c5b685a342', '92384ab4ec17abe49385d4d3fa698fdb24f01b1f1f46b59cf83292bf55ae4e1e', '48f7277a5cd371c7add1bdcad324c549f010e97744d6574f7b6700c19ac1d2dc', 'f219ca71b5f2b24b08f382576b76bfc4959f27bdb39717273ab1e5ada4d52f6b', '5026671d8d76b7f3a218ac432c56a0c7de94ba3ff7aec87653a11dfb77555406', '6a4c34037652af7ef6ae94db465b3982cf08e67520ccddb0bded8e279dc81404']\",\n",
              "       'send:-542118531',\n",
              "       \"send:['f9525451d3d26ccfaa909ebb3c7c8dc016f691482487b00005585d5405204ef5', '0b2be6e8abe38ede7cae48e433460c3840c9550ca3944c64b36974ee632d2bde', '21eddf88813990296c671e23e149a4c76ba7b96077afd5d98eba36a53cea03d3', '83f646ee930196c331cf4bc7d94994d17095dba7c97c69dd8404f4f812f170f2', 'ddfec10d7a95b17df47a621489cdf2d2f53fba66ece0a651dcffab7559541b89']\",\n",
              "       'send:-1413980882',\n",
              "       \"send:['5683d69b7fbd9d19f90407364dcfaa44bedada7622bf7cbb9334c269fa36a033', 'ee295380c9993aa2f49c745491c758ac4fd81c9f48b685755f843652a058c2ed', 'fa3c1aaf84f3b06c976745ff34b051c276599169dfa6c3afce00dbb396c0ef2b', 'f3dbdcf732723312dd1a7bb86de3eebc2734b7378595fe0e651e24fa0d591c93', '445530e6bd444f102105c240294ff5ed9fee33d0405c859af3df5e181f6da5a3']\",\n",
              "       'send:1195399833',\n",
              "       \"send:['5f81d117e1603ea5f35a040de8ebe282625187ee4403146a4b24131241c2e8e6', 'a25596d718ee80a867a891cbdcdcf172c9b5694ca031ca037b8cfcae7759912c', '9da8ee59e41e3b078a69270efd2bd44dccbe85c86f2bbd2a17d784c275bb7ecd', '11966f923c36bedb3de20e954ff54531b4266be9b729f353f47a91bd793351fd']\",\n",
              "       'send:1495509953',\n",
              "       \"send:['f8e6eace815cb4d339cef9e1e258da3087976a1479476418f1d34b92973b8fd5', '7251856af5d51426e2cb27beb45b94b4cc91242cd6bdf183a0d74c738fa65c4e', 'ca1737d9563450f386d735fa9b384072fbed835b6673055a80cab7d6d4c03b45', 'e74fcba361e8ba00f7466342e4d274242de831fc9620a16cc192d9a7f904ef7c']\",\n",
              "       'send:-203564369', 'receive_random_int:7791', 'send:-868032462',\n",
              "       \"send:['76f7d3d788bbf4ab1a4992b8363ace03b8c877db54e735017f2f8d98823acb93', '43cac23f8d1c2ec2a6ee1657ce775bbc3c9635e58fb0a5134b02a841d01cf911', '71b8e75365717630adbfe1757c879da25be4240d00b12d3a3656e3768b3a60b9', 'e2a3ab66da8fe6eb521951d212c730d9d76a6bb4d03d92d62d3e66ece87acdad', '9f0e68d40237bcedeb126400c74bd75683a935d60edc1239b20f0599197bdc03', '0a67d7339e3d792617f9efc1d2da693ad41d3069efe0f8b647d4db2fbd119e80', 'd821a88e0ae9b8771e6638d1d31739bc2224e5ac65333a972eec5334a88536f6', '3a81ac7fbfe46449fb727acb388b58471341b3bfe8ad4232a2a7882b87a0ac18', '1d818254d2b505a3518eeb5fc57b37f70558e1133ab1769c11369524dcac4467', 'db2fd1f539539258e334701f4a3e1716303bb485c5712318ba225e1a844995b6', 'a62eeef2ac66c1d549613b2f1c19d7c480194ca203166f7f571fbab8a4f725ea', 'dacff299ba420c18b14278b56bb1de817ce76a7165e92a18ff56f166e14a6e78', 'a3781c90eb8d2bc2b3e21db1af669305fa48d0d1378595e866b9276dbdcd7cf9']\",\n",
              "       'send:142432000',\n",
              "       \"send:['76f7d3d788bbf4ab1a4992b8363ace03b8c877db54e735017f2f8d98823acb93', '43cac23f8d1c2ec2a6ee1657ce775bbc3c9635e58fb0a5134b02a841d01cf911', '71b8e75365717630adbfe1757c879da25be4240d00b12d3a3656e3768b3a60b9', 'e2a3ab66da8fe6eb521951d212c730d9d76a6bb4d03d92d62d3e66ece87acdad', '9f0e68d40237bcedeb126400c74bd75683a935d60edc1239b20f0599197bdc03', '0a67d7339e3d792617f9efc1d2da693ad41d3069efe0f8b647d4db2fbd119e80', 'd821a88e0ae9b8771e6638d1d31739bc2224e5ac65333a972eec5334a88536f6', '3a81ac7fbfe46449fb727acb388b58471341b3bfe8ad4232a2a7882b87a0ac18', '2c22fe9a558a8d268358589aa346b07fc113a3da7fc845ecbc482a47cc4e1b97', '851df46f6a10637854247750c519fad520af52226b30c1f131c09a8af34756e5', '63ae1ef708a906ce4fe821bae6a87968b579bdda205aa2e8cfaa7c04dafdd5de', '3d1d1d683e05cfdf90e7f29a502ce21665c966d303df62a1890c9162d023439b', 'e1afd91a1d07a51bb5c6125e45613fdba0a5aa0bf439b40f6be2f5a286bba36a']\",\n",
              "       'send:306535419',\n",
              "       \"send:['76f7d3d788bbf4ab1a4992b8363ace03b8c877db54e735017f2f8d98823acb93', '43cac23f8d1c2ec2a6ee1657ce775bbc3c9635e58fb0a5134b02a841d01cf911', '71b8e75365717630adbfe1757c879da25be4240d00b12d3a3656e3768b3a60b9', 'e2a3ab66da8fe6eb521951d212c730d9d76a6bb4d03d92d62d3e66ece87acdad', '9f0e68d40237bcedeb126400c74bd75683a935d60edc1239b20f0599197bdc03', '0a67d7339e3d792617f9efc1d2da693ad41d3069efe0f8b647d4db2fbd119e80', 'd821a88e0ae9b8771e6638d1d31739bc2224e5ac65333a972eec5334a88536f6', '3a81ac7fbfe46449fb727acb388b58471341b3bfe8ad4232a2a7882b87a0ac18', '2c22fe9a558a8d268358589aa346b07fc113a3da7fc845ecbc482a47cc4e1b97', '4b7822c92e96dd699b2a7d9873a88ee5aff3cdb6110f15672e5d126d93a7c696', 'bfc84af43f40f419e629937ede1b94b454b05f069111afe66b74aa7cd3efd722', '4f145a9f66f057f1afa3fdf0a243b6cd41b451e8bfa070bb0b4a24ec2045be89', '3b911ee7264723e1efb5be7ec3940bba3993a833fb53c64b3996d95fd5ca4283']\",\n",
              "       'send:1139756745',\n",
              "       \"send:['6043771f91f90dc1a7602739cd2fcf7962686e96ca503362febbe6247e4a2541', 'e87aa43048cbd39ea05048a3c2113515fb5926cc9b51c3cd3f3b371309c84c47', 'd7c29f1553c4cda6f4a455fdc9c3430178461aab382360e7c5e43f08a4b8e010', '5879709ad0ecaea0327f66d3035a7e09bf13df3c0a72d1f8c42d6af5bfbfa9ef', '33278e63b318bcc4ba31a4f4c4bfb9f9c42a78a94e30f2a94f63693d03b1c0ce', '21054d36a96fb2f43fdd7ca44268cba9776b8a9a093847f2a72929b0a269b9a1', '949ada8a8768d41d4b01de19bd13429eabc5e6a8ff9375147adf9ea37f3a8b39', '69946b68dcf9f2a2a1420d3587b3c04466e86638ef8f5a0d2c50041b7ef8b8d9', '99d95899ae964abc098b83af71fd47923359265583375e6ab2d7e7883cf5d3b4', '84d6f03aa35b5b6f35bf10c88b72125ae96a96ade8c2f69251713f7047c2e3a3', '796cf64ecc74445831be9d8408c4bce717694a2c1a663b50666439a884417c48', 'db4f2eaea765d5eb98507e8d4fc7362eb7aa8dfcfe3a95b2402273cabc12e7ab', '53c88cdc594b491ab85a98cb7ae3ab3f21d9af6517e46daaebfca68707ff9400']\",\n",
              "       'send:-1298925830',\n",
              "       \"send:['5cffaa845ba29f0dbef1cd02b4898cdf8c0868f6712290c30e826c3f37cb8740', '3c1dd0948a8c6b4eb844f835563a0f4584a6db0ac50291dbbab3cf84e4b08849', 'd2ce53673ecaf6a83b326a81c44a1321e0411a295acbf838beb806a0b5c2fe0a', 'e4908acb389f913d49b8bbefea1523d81a1ac00a9615676d6532f36eec6ed42d', '6dfab036b2ad6825cd161de30f5588a44b20b0fdb38e759ff6851d8a417d5126', '874cdeeec8ee9671946bc2872025bad96568f6dad02d9a5e04d5d73518c3b19a', 'bef5633ab1ea2e0cc9a95fd1ed21cf8b546fe15788de1e476ca323e575341a35', 'd96feeccfa44a303298fb75f506c636eec942540112731c2c134b58ec8f20e40', 'a9c7278c4dbd53ad37c5419f6940377a826e8cacbdc2c3f201d557c5963cc383', 'fbbbfab66201f29cf75597cdd97df677231bd16e87ccff63d90c7f28b6eb0851', '0562ca231a9c5d8f45852fd6a3e7623fdb319be9590823a8cc79fd5d28c977df', 'a22c4c110a67f6c36da474048cd88cd14665493750daec89634ce3503005359e', 'd0b31346399ca43527a492478016b2f6c943458f46bdcf7357cb07ae4deafead']\",\n",
              "       'send:1435728716',\n",
              "       \"send:['859310bec4b545625d433fc643a342cc97bda6e9f18a27178247d22cbffd5f2c', 'ec8930689bcaeca87240b0b0713b9798b15976511d727688f1280f66838918f5', 'f191ed8fc1f4f0b5a0d0b28e7b2497e3b8db48744333f567811099ade3e56624', 'a3a5e77d63a9555c0b051f68013a5bc56e559d16d6b7aff8625f799aa382fa3a', 'ce5c7e8851e335f800e2575b85689a88efdc282688b60a1479db422e578a0535', 'ea8bbbe1aa4565f74df270cc70fe12dabb9e0597307ecfe298b56dfdccd4ca36', '11f781b4fb1e16f11d80771edeb26c7052e2f832de5f70757bbc78b35db49c54', 'b23107026455780d3da50c3700d1ae0161b420ba291e638a0ee2a19984b13874', '9db3414f417b81f5a3ccae788dd8015b688d488f9ef1ec0c0147305a71a70576', '8b5353f0b591758d06c901ee11a218c4731414f028b480844958f0d875f2b94d', '96591a9122c4d1e037a0e68952449c8363c544054c0297b9b892f4e4cefe0519', 'b18859ae5593dc64029d5266da69913a16a46dcc5d2c08a48a6518f58e592ac4']\",\n",
              "       'send:551658518',\n",
              "       \"send:['2076e8f36abcab8d848b728ade031f692f72d344820326721a7de9e5b174f823', 'cfff6f057bdab60556b9d2731a00cd2d5fa606cde0eb736113203d5080bb93f7', '73c398875d5a26fde96513a38838a501bfa99fa023df1d071339be9d22b49dcb', '09e7172f47f816cdfbd8b2a17a7319a795ceec97fdb153ff5bd77358c35d57d3', '389a94ccc2e269a64fff70bea709f68768abb05ea908c39a9b38f295097e876a', '953dccfa529642212715deff6c18c7ca12e015dd61ac490d7afd1ee1c1a6ed33', 'b9902dd7113545eee33d451481417ddda2c26265e0f37a8c480ef1df44014746', 'e9d78541b2b9749b7ecfc5cd391713be06ec89d48a166c6ff154e5a3f97522b7', 'e4b07f10e5c139d23a53fdd00df32a94529af4e3a25a9567b90f36100f5cbfb0', '6504bf98880735e22e4229823c2a85632ba9c2bde0f4d26a29fd17d1cc8e0271', '758cf0c2310af782f8ed0e0fee9b05b04c7fabc682762f37a92cf1d7b52d4df2', 'b076055b5baad86240cbb52d5f155b01d6b15bf6732c9cbbdcbfc74fc805aad5']\",\n",
              "       'send:784229966',\n",
              "       \"send:['c811a667747a3f3ea7c328fbe4e48d45b5f190a67e5ab4082de5b5c36f560e6e', '4d1244731e67cbc096bbce7b903f69351d67f61bfecd0bf8dda19f3289150e84', '317f79df648ac225eab0c2449558800080edee59a4b9b156feaf347bb1dd47f8', 'b9211f34fada8551c702e4e54bb6770a5b25163dcffcb24fd510680c0853d4aa', '4d98cf872ce4f951e38d56c5c38e3eaa906a60b391cdb35058e970ef4a96fd9d', 'efe323a0ba5e6588da88e5b3805fc5ca0d81fefa62b3358b191e356c0521cba0', 'f0a192954c1b2228ef3c783ad6c9f9965e6a66bf2a7b22bd6bc1a57ba85d78fa', 'ca7637ee2e0c4035d16b484273acccc04f87ab82a98a571b20bb59346da9df79', '8de20ebcaae32ac750116e757dc6475cceefc9480453d4792a22c2138708e2be', '9fe424a815fd20c59146a2cb661e9e00a8eefcc991593a43e87d5b7151a4adee', '436fc2373185c97ed8da316662937631950962bb33bab5504fda0a6a998df3c3']\",\n",
              "       'send:-699275519',\n",
              "       \"send:['a004dbf3a55dea6108460008bf7cc8b8bab618b35f4ba5faaf7e44bda5b53d3b', 'd0dbdbf213a743cff83166a3396270066bc09b0cceab5b427b221782c0579257', 'd486c37371db4b606ccdcc56ae816f52fdb99b10cbed6e49f7c04d2673ec386e', '9e935b5a7001b79a6c898817f103bd668e343a2414730d49caddfba1a0090ffa', 'f6d2d4ffa85f2d7261bf32e94e5b3d64c788bb84331e08c9287e8541685d6cf4', 'c41ba0ef78fcdfa533c3c79d1a8089c3be0e54c81030e9b4954d03b15b68d306', '33b1f999f53cce785399c8fcb181aa88c282376afd9122771c905c3895c7ae90', '7c9e7bd66e3fdec6db09ca39eb823eab7ee7c15528d155eb93d25173cda3d7aa', '9101e5e2906ce185e416be347b89753272f086c9c3fec88393991227c1eaa2f9', 'e52c5a239ca401cf3332bc8f346dc095275ea2e662f407b523b582ce759f3bb5', '1cea4749ab5dd4fcb84f48e686feb0a0ee2ed365679e0e11b44a80f442ac7503']\",\n",
              "       'send:1469121350',\n",
              "       \"send:['88a8073ff403cc9fc20acd3b718b8daa8cd0ae793087ee566099edcde4e47809', '805bab5b1b069866988ed86847a217899de20815e21460d1389f68baa75af688', 'e95cc186d21f96a50bf95dd9a9642adc7d04aff3ff0f248c54612152b542f6aa', 'c9255d97e8cc3026366f441fefc3972c50b95523929530d4c4029b740937cfe2', 'feeb7dbd74e9e699c48f2f540c5c017391d0908cbe53d4dd5d34a4b53ff96297', '514fca0063ab909da9c1b97f20993a8242e14666479ea3c6cd0be72a3ac67688', '68b003862023628a4c5bec99f6c8533a29fa84902052eb53aad690387243b4f2', '3ed67e3b81d6edba824fb37bdf4e3cac9df2335482c1c115815786e33c951534', 'c4339e906fd61974214d953a46f7e2587d9d944b0051e5a123c67cfdf888aee3', 'a7d2dd8ec04fbc37da3638ea4758f376e4d9abfd9d814138010398b5d21bd710']\",\n",
              "       'send:512584744',\n",
              "       \"send:['3e796af4fa69dc6dad0a1e5733ff24ee385618fc4067ddde07935af542f8a86a', '79605371dfe795161cfc9b7fe9adc152632500d8d6e5a3b2783f2fe0fa4b42ca', 'bf64d610289087b4d0eeb2dd509bf69cf4ecb91eb88c090bc59a0e56338d942a', '93d47968b0f20ce745786b2289ef459554647afa0ca051ec16cfa61b623aa7b5', 'b30ff3f95161e37fc71c8f0987660cc65d3335b82627b398a3e68c01d3ee2237', '7a9055908f50ffcb91f2dc5d31bde451949ff2efb717a188142a84af9e6ca727', '4bb1a02511e02b94c2a35e6cff43e90856a720ef39d8d427809823cee63c766b', 'de4d72abe68b1b6db2f32f3b9a9c7e6d24b5582fd41080dc4c3841b652d706e3', '4bc4696cdb6c1257fd21f1ad73d9c76aef223b41b295b1cafb675c46623856e0', '1174bc15c64568eff65b76d4858f80c00959fe07501857584d2c4f3f8a86d441']\",\n",
              "       'send:121064698',\n",
              "       \"send:['dd089bfb2ff81017053b29d21ab30b4b7e9add84feaf9675153176dfa870063c', '9269cf3eb1ecddc1e749e0574395f1cfe260196b450b4c4741f22db6a7a3625c', '28fad928e135a5e589ce0412e7b487be099454394d182c90ee66f8443e4293bb', 'd1801cdcf22cf90834a94353584d4797d11ea476eb5112052626dbd7f27e4b45', 'ca6736c03364e448c0484de6cde94ace6e3462a56830369bf839f44d9abc53f8', '26b4a3e89d4a09b6076a69c93e097e403c2c04e178b564f1524ee5260c5ec9c6', 'd0ab08a44441618191e39b589559106eee0dd12c0bd390c2d87eac59324ac7a2', 'f432695f627e6c5ab8bd65a9a11385acd9d74fea4ba1dd304aed14c6b173d121', 'daddaac7ddb56107f7c5619d51039c37fd3daef92109b833c96d94fe0490a167']\",\n",
              "       'send:462674201',\n",
              "       \"send:['962596c31832598193af509fc04c43443b3d787fdb3a6d89747ff287f977677b', 'b55b6d5a442b2121e5f50185f316f6760febfeaafe4070879833d24ef8a3bed1', '003d3c500214f19b05e15a8afa1429789012a051090f92a7a8a9ab687da021c4', '38fbfef7dc08fc38b16b8f9b6d5b2e23aefcfc6164f886257643164720e06a1d', '6e7bb1fc13e5f1e20ee7e687f9916edcbf82d671fc7b527c46f1063f94cb307b', 'ba361650dfbdfe940f6450bade1684e16f2069f5edc8bb3c96ca73412d3e9cf6', '0e23d6c6edb05e56e54d80c80e2c1b809b4250eb3d745a7b550f8ea26d745629', '780c36829453265229388ff6db1029cd4f3f8bdfae0dc856d3a74c906c75d4c1', 'bb29fa722fbc3b553a0f9c55906158feae31ffae0c6f3313fd79bdfeb1dcf7f9']\",\n",
              "       'send:783775803',\n",
              "       \"send:['4f666ec1e123fee95081c2812b95295525edcdcad53382f76b8b7d40e339268c', '6a3bf590f1ac703a5f2260b6bc5032cf126abd0bdbc6f256d0ccd2ef0eb8dd1e', '8b26f7b466980262455a57e02d62f674b14f2abae9ca76b640a968f6cfcb8de1', 'a0118fb43b552e268afa04610ef0f80b99f77ece36828bbdca6da94f5acd524b', 'e3fa0143ecdc3bc96c6987eac26396184810febabb0f1a460edabf1eb18f321c', 'cf82a406a3e29cd311f4b43088a1a60c5bfbb19351acddbf53a92f3ca2dc6e84', 'd55d7ee0fdb65424d2bc89473d8430524d3df5a54cd9816396431fc7ca48b967', '51c804dc3950110b55b707adfd8851942d1b97f5d37ec83bd6601af495882225']\",\n",
              "       'send:242548038',\n",
              "       \"send:['2a28ac9ecea545b1a532ab989c23698e108de2e03e68502ee0f81b40b4fdd465', '2aefb4fc8deb88650209d3c7b61497e6b663710bdc530304ea8414885b394fe0', '3c692221e530831b7ec48d7b3fb5cfa4cb4494dd66e33e70bbe0b98292936662', '96bd59225c4e56d2e0da2513fdc2172f3c52d2bf82dc49295681d0320d186511', '4fc67f1db478220173fc9859e193693261546afb390257f144ec316a103f8599', 'e3cc41316598f2567b8154a1a3b60b4d4731f370c5112647aa60224b5a727211', '9ca59a79f36e319120f42c19c697c8f96f10432f6334bf4006d5c56187584529', '318e4528eedddf5e5b7893641a749eacd2cb85bf2ff3f3d31c63bb90bfd59363']\",\n",
              "       'send:-935056995',\n",
              "       \"send:['693128858f0531d220b0581972bcde57b7bba93b76727969042fffc3f7634b43', '4e9d3c9b89ebc0936c869be43539748b66983d2a46c3987ba65debc43b16c4cc', '3febb11e021a316998fdda09a9003ab03aae98367b8d779defc433014d0e9b67', 'b29f7490e91b0eac24019a7a804d2bb8101c65c806503d9d2167929bcb74d5ef', '76e8199b9ce7c8f69e1d5e7f2ce6734f5ead689794cd1577011fd52bd5bc6425', 'cf5f6bd8e25c5cab8a8252fd8b95310d0a4d842f626f159bc0541e421c604613', '0d0d255c96994c681e2b7e5e5fa3a22e06f00347d4bf8a5019229d33d3a4bf6c']\",\n",
              "       'send:-1322397507',\n",
              "       \"send:['37eba724ed0dace180d29dbf78202c4be0158d6c077461c11c7819a83126788a', '4367fd9b24ad59c0216b178f9024f13224a27c0b0d1399f1a43c13e49c1856e4', '9b9cdd68e1134ad006717685ff66338a97cffce6539f71e973cacb682b814593', 'aa1f7a34c0e2ef54ab918e4d0c0728a2b19a28877ddfbb75fe9927eef3fd135e', 'b636e50b6aa41fda4f8442248b63a97a3dc97756ee125d115158ba0f93c639bb', '2c649e07a7a44d8b6283de5476f1a5e45dd5e43be9aefe0a3d4084c71ba56d79', 'e25fb10a9f9036005f75dd34ea82d8752548cff0f2b057a3b93fd1b4ff72dbd1']\",\n",
              "       'send:-813619394',\n",
              "       \"send:['499235a4121085316e15719e9096cbec10e762168de16258b87a77c5b685a342', '5c33ee0e9f0cc4fca93e3709882b3c3e70fb97401aeb75f7cac981a0db11215d', 'efa8f6b5465a846ca92f7f62f8e8a147c3f335985e48f34cd05eaf8981675048', 'a97b56398a251e071bca288322beb5154847b172f061144b104303e37f92b695', 'b0242e1bab1936749a6126b9b43a77072fbf4331384a1b29a2634f133c31ee92', 'b670866eede1f685bd1472d68dc6141c7a2be273150c6245abd6a2e89af4216b']\",\n",
              "       'send:1131411736',\n",
              "       \"send:['19c628c94afe0230d0f307b420b88c34c28d5c89308f07fefd07139c62843d2e', '0fdb27c53947f0bed8194a9608b98cdd052765568517bfea01438a6c29005313', '16a40b708a252de8726089d08ac99de5a7adf3913f38d9703bd60673777c55fa', '319dd134d0352bd219a68c35cd6e8f587873cdd3d1b642f31b01bce184c70546', '18bdf509e4a094fa82b7b625ee9e9dd6ef7b9928273da54f42279bccb7b5f0bd', '55b9b628efa587b78b7d08bf03155241c8cb046cefa4c279c0576bc0b6157b84']\",\n",
              "       'send:904767229',\n",
              "       \"send:['5683d69b7fbd9d19f90407364dcfaa44bedada7622bf7cbb9334c269fa36a033', '8a1e628be96e138e612920c05700005b9650148b9b6a4af726be1b9e087917c0', '01e52cf271e42d07288fd088f63b511c6ffb1d769ab3779a0222536f5f127b03', '9933987cd8ceb06be41e3f6168dc1190713d674182d6fcabd098d80738e9d5aa', 'fc649a30807e30e765c4ae265c32467b3a7014aba7445a05d0f4748bbb858288']\",\n",
              "       'send:1584559743',\n",
              "       \"send:['f9525451d3d26ccfaa909ebb3c7c8dc016f691482487b00005585d5405204ef5', 'ad319355328d3eb19527636eeded37d2ab7cb6dfdc3cb4b9a51f04dfd2209d34', '7f997edb0302ce78d5f491494484b425153056a6758c49b72a504ef02c03f386', '66324864d20b48478f38eb021e9ae1c57c9d328fddb09f9588e0860dbdc9a9b2', 'fed370020039fcf421df98e7a1c297779aae875dc111148fc0a753817280f76b']\",\n",
              "       'send:-999250017',\n",
              "       \"send:['f8e6eace815cb4d339cef9e1e258da3087976a1479476418f1d34b92973b8fd5', '52bb9f4cc4d86651544511fd18c6a58ce92d6e94bff812a20f421bb0e5f4a6cd', 'fd2ecb2b492e96f180466dd2d813f1311e1cd2140673a288fcaabfd20e19e11e', '789cb481a6d11bcf11f51de3350558d48a20c9e10c03e9c276214cb554c68f45']\",\n",
              "       'send:468934330',\n",
              "       \"send:['5f81d117e1603ea5f35a040de8ebe282625187ee4403146a4b24131241c2e8e6', 'ea3716375a006cab85db7ffe56c34175c57144d7aa00c5a5d2d4f17c4e478ea6', '1a670744a83e6c817061f39adcaeb5ada24bb6a27b2711f5ebbdc7ef30e45dec', 'c44f1d5b4ae42f9e4459bd4a0654659be3a108a77d1e4769a5cf7e80270e2a72']\",\n",
              "       'send:-203564369'], dtype='<U889')"
            ]
          },
          "metadata": {},
          "execution_count": 14
        }
      ]
    },
    {
      "cell_type": "code",
      "source": [
        "assert len(proof) == 26 + 48 * number_of_queries, f\"Proof doesn't have the rigth length\"\n",
        "#as recieve_query_index, f(x) f(gx) f(g^2x) with their paths = 6 CP_i(x) and CP_i(-x) with their auth_paths are 4*10 and the last value"
      ],
      "metadata": {
        "id": "KNT2WUfpVFci"
      },
      "execution_count": 15,
      "outputs": []
    },
    {
      "cell_type": "code",
      "source": [
        "#Roots in the proof are given as \"send:root\" so get_roots_alphas_betas slices \"send:\" parts and then sends them to the channel\n",
        "# to get the challenges(alphas and betas).\n",
        "def get_roots_alphas_betas(proof, channel):\n",
        "  roots, evals, auth_paths, alphas, betas = empty_paramether_sets()\n",
        "  roots.append(proof[0][5:])#The root of Trace polynomial\n",
        "  channel.send(roots[0])#sending the Trace root\n",
        "\n",
        "  alphas.append(channel.receive_random_field_element())#receiving the first alpha\n",
        "  alphas.append(channel.receive_random_field_element())#receiving the second alpha\n",
        "  alphas.append(channel.receive_random_field_element())#receiving the third alpha\n",
        "\n",
        "  for i in range(4, 25, 2):\n",
        "    roots.append(proof[i][5:])#The roots of CP0,CP1,...,CP10\n",
        "\n",
        "  for i in roots[1: -1]:\n",
        "    channel.send(i)#Sending CP roots\n",
        "    betas.append(channel.receive_random_field_element())#receiving the cooresponding betas \n",
        "\n",
        "  last_value = proof[25][5:]#The value of the last layer\n",
        "  channel.send(roots[-1])#sending the last layer\n",
        "  channel.send(last_value)#sending the last layer's value\n",
        "\n",
        "  idx.append(channel.receive_random_int(0, 8191 - 16))#the index where verifier makes the check\n",
        "  return roots, alphas, betas, int(last_value)"
      ],
      "metadata": {
        "id": "gszQog1kvVI8"
      },
      "execution_count": 16,
      "outputs": []
    },
    {
      "cell_type": "code",
      "source": [
        "#get_evals_and_auth_paths slices evals and auth_paths from proof's \"send:evals\" and \"send:auth_paths\" and sends the to the channel\n",
        "# to get the next query's index.\n",
        "def get_evals_and_auth_paths(proof, channel, idx, number_of_queries = 3):\n",
        "  roots, evals, auth_paths, alphas, betas = empty_paramether_sets(number_of_queries)\n",
        "  for j in range(number_of_queries):\n",
        "    evals[j].append(int(proof[27 + j * 48][5:]))#f_eval(x)\n",
        "    evals[j].append(int(proof[29 + j * 48][5:]))#f_eval(gx)\n",
        "    evals[j].append(int(proof[31 + j * 48][5:]))#f_eval(g^2x)\n",
        "\n",
        "    auth_paths[j].append(get_path(proof[28 + j * 48]))#auth path for f_eval(x)\n",
        "    auth_paths[j].append(get_path(proof[30 + j * 48]))#auth path for f_eval(gx)\n",
        "    auth_paths[j].append(get_path(proof[32 + j * 48]))#auth path for f_eval(g^2x)\n",
        "\n",
        "    for i in range(33 + j * 48, 74 + j * 48, 2):\n",
        "      evals[j].append(int(proof[i][5:]))#The CP_i(x) and CP_i(-x)\n",
        "      #The proof[73] is the last value\n",
        "\n",
        "    for i in range(34 + j * 48, 74 + j * 48, 2):\n",
        "      auth_paths[j].append(get_path(proof[i]))#auth paths for  CP_i(x) and CP_i(-x)\n",
        "\n",
        "    for i in range(len(evals[j][:-1])):\n",
        "      channel.send(str(evals[j][i]))#sending evals\n",
        "      channel.send(str(auth_paths[j][i]))#sending auth_paths \n",
        "\n",
        "    channel.send(str(evals[j][-1]))#sending the last eval\n",
        "    idx.append(channel.receive_random_int(0, 8191 - 16))#the index where verifier makes the check\n",
        "\n",
        "  idx.pop()  \n",
        "\n",
        "  return evals, auth_paths\n"
      ],
      "metadata": {
        "id": "TlWOW4s_r5oF"
      },
      "execution_count": 17,
      "outputs": []
    },
    {
      "cell_type": "code",
      "source": [
        "roots, alphas, betas, last_value = get_roots_alphas_betas(proof, channel)"
      ],
      "metadata": {
        "id": "Y0enTVU4wiD8"
      },
      "execution_count": 18,
      "outputs": []
    },
    {
      "cell_type": "code",
      "source": [
        "evals, auth_paths = get_evals_and_auth_paths(proof, channel, idx)"
      ],
      "metadata": {
        "id": "TIrAW1gswhfw"
      },
      "execution_count": 19,
      "outputs": []
    },
    {
      "cell_type": "code",
      "source": [
        "#verify_paths verifies that f(x), f(gx), f(g^2x), CP_i(x) and CP_i(-x) belong to their respaective  merkle trees.\n",
        "def verify_paths(idx, evals, auth_paths, roots, length):\n",
        "    assert verify_decommitment(idx, evals[0], auth_paths[0], roots[0]), f'f(x) is not from the data'\n",
        "    assert verify_decommitment(idx + 8, evals[1], auth_paths[1], roots[0]), f'f(gx) is not from the data'\n",
        "    assert verify_decommitment(idx + 16, evals[2], auth_paths[2], roots[0]), f'f(g^2x) is not from the data'\n",
        "    j = 3\n",
        "    for i in range(1, len(roots), 1):\n",
        "        sib_idx = (idx + length // 2) % length#calculating -x\n",
        "        if j != len(evals) -1:\n",
        "            assert verify_decommitment(idx, evals[j], auth_paths[j], roots[i]), f'CP[{i-1}](x) is not from the data'\n",
        "            assert verify_decommitment(sib_idx, evals[j + 1], auth_paths[j + 1], roots[i]), f'CP[{i-1}](-x) is not from the data'\n",
        "        length = length//2#every next layer is 2 times shorter then the previous one\n",
        "        j += 2   "
      ],
      "metadata": {
        "id": "ildXuaLOl0-P"
      },
      "execution_count": 20,
      "outputs": []
    },
    {
      "cell_type": "code",
      "source": [
        "for query in range(number_of_queries):\n",
        "  verify_paths(idx[query], evals[query], auth_paths[query], roots, len(domain))"
      ],
      "metadata": {
        "id": "OqkKVEEb2RqX"
      },
      "execution_count": 21,
      "outputs": []
    },
    {
      "cell_type": "code",
      "source": [
        "#verify_Trace verifies that CP polynomial was built using the trace polynomial(evals) and the challenges(alphas).\n",
        "def verify_Trace(idx, evals, alphas, dom, points):\n",
        "  cp01 = FieldElement(evals[0] - 1)/(dom[idx] - points[0])\n",
        "  cp01 *= alphas[0]\n",
        "\n",
        "  cp02 = (FieldElement(evals[0]) - FieldElement(2338775057))/(dom[idx] - points[1022])\n",
        "  cp02 *= alphas[1]\n",
        "\n",
        "  denom = ((dom[idx]**1024 - 1)/((dom[idx] - points[1021])*(dom[idx] - points[1022])*(dom[idx] - points[1023])))\n",
        "  cp03 = (FieldElement(evals[2]) - FieldElement(evals[1])*FieldElement(evals[1]) - FieldElement(evals[0])*FieldElement(evals[0]))/denom\n",
        "  cp03 *= alphas[-1]\n",
        "\n",
        "  cp = cp01 + cp02 + cp03\n",
        "\n",
        "  assert cp == FieldElement(evals[3])"
      ],
      "metadata": {
        "id": "YnKCt8tSdgsj"
      },
      "execution_count": 27,
      "outputs": []
    },
    {
      "cell_type": "code",
      "source": [
        "for query in range(number_of_queries):\n",
        "  verify_Trace(idx[query], evals[query], alphas, domain, points)"
      ],
      "metadata": {
        "id": "NFGxM3Z4e-hm"
      },
      "execution_count": 24,
      "outputs": []
    },
    {
      "cell_type": "code",
      "source": [
        "#verify_fri verifies that CP_(i+1) was built using CP_i(x),CP_i(-x)(evals) and the challenges(betas).\n",
        "def verify_fri(idx, evals, betas, dom = domain):\n",
        "    j = 3 \n",
        "    i = 0\n",
        "    while j + 2 < len(evals):\n",
        "        dom_len = len(dom) \n",
        "        idx = idx % dom_len#domain is 2 times smaller in current layer\n",
        "        cp_x = FieldElement(evals[j])# CP(x)\n",
        "        cp_neg_x = FieldElement(evals[j + 1])#CP(-x)\n",
        "        even = (cp_x + cp_neg_x)/2#calculating the even degree part of polynomial\n",
        "        odd = (cp_x - cp_neg_x)/(2* dom[idx])#calculating the odd degree part of polynomial\n",
        "        next_pol = even + betas[i] * odd# The next layer's CP(x^2) can be computed by Even(x) + beta * Odd(x)\n",
        "        assert FieldElement(evals[j + 2]) == next_pol,f'CP[{i + 1}] is not the next layer '\n",
        "        i += 1\n",
        "        j += 2\n",
        "        dom = next_fri_domain(dom)\n",
        "    assert FieldElement(last_value) == next_pol,f'The last layer is not the rigth constant'"
      ],
      "metadata": {
        "id": "XOc4P5_kQesj"
      },
      "execution_count": 25,
      "outputs": []
    },
    {
      "cell_type": "code",
      "source": [
        "for query in range(number_of_queries):\n",
        "  verify_fri(idx[query], evals[query], betas, domain)"
      ],
      "metadata": {
        "id": "ePDhaXOTNZsO"
      },
      "execution_count": 26,
      "outputs": []
    },
    {
      "cell_type": "code",
      "source": [],
      "metadata": {
        "id": "KwiY16qUBTc2"
      },
      "execution_count": 26,
      "outputs": []
    }
  ]
}